{
  "nbformat": 4,
  "nbformat_minor": 0,
  "metadata": {
    "colab": {
      "name": "Unzip Stress.ipynb",
      "provenance": []
    },
    "kernelspec": {
      "name": "python3",
      "display_name": "Python 3"
    },
    "language_info": {
      "name": "python"
    }
  },
  "cells": [
    {
      "cell_type": "code",
      "execution_count": null,
      "metadata": {
        "colab": {
          "base_uri": "https://localhost:8080/"
        },
        "id": "7vNk_nRgzcML",
        "outputId": "9769451f-ce79-472b-9d3f-27de7e38d062"
      },
      "outputs": [
        {
          "output_type": "stream",
          "name": "stdout",
          "text": [
            "Mounted at /content/drive\n"
          ]
        }
      ],
      "source": [
        "from google.colab import drive\n",
        "drive.mount('/content/drive', force_remount=True)"
      ]
    },
    {
      "cell_type": "code",
      "source": [
        "import os\n",
        "import zipfile\n",
        "import csv\n",
        "import copy"
      ],
      "metadata": {
        "id": "uB9lXU0t0bD_"
      },
      "execution_count": null,
      "outputs": []
    },
    {
      "cell_type": "code",
      "source": [
        "path = \"/content/drive/My Drive\"\n",
        "list_of_studies = [study for study in os.listdir(path + \"/stress_data_zip\")]\n",
        "print(list_of_studies)"
      ],
      "metadata": {
        "colab": {
          "base_uri": "https://localhost:8080/"
        },
        "id": "NYBJEN650fmm",
        "outputId": "0d0e98e6-f2b0-457f-c560-cc444598a1fb"
      },
      "execution_count": null,
      "outputs": [
        {
          "output_type": "stream",
          "name": "stdout",
          "text": [
            "['WESAD.zip']\n"
          ]
        }
      ]
    },
    {
      "cell_type": "code",
      "source": [
        "for study in list_of_studies:\n",
        "  with zipfile.ZipFile(path + \"/stress_data_zip/\"+study,'r') as zip_ref:\n",
        "    zip_ref.extractall(\"/content/drive/My Drive/stress/data/unzipped\")"
      ],
      "metadata": {
        "id": "NZDAoDyr0g9Z"
      },
      "execution_count": null,
      "outputs": []
    },
    {
      "cell_type": "code",
      "source": [
        "#new_path = \"/content/drive/My Drive/stress_data_unzipped\"\n",
        "#\n",
        "#new_list = [study for study in os.listdir(path + \"/\")]\n",
        "\n",
        "new_path = \"/content/drive/My Drive/stress_data_unzipped/\"\n",
        "new_list = [study for study in os.listdir(new_path + \"/WESAD/\")]\n",
        "print(new_list)"
      ],
      "metadata": {
        "colab": {
          "base_uri": "https://localhost:8080/"
        },
        "id": "BqT5a5hR45TG",
        "outputId": "87d703ec-71c1-41a8-cf07-e1533ceea689"
      },
      "execution_count": null,
      "outputs": [
        {
          "output_type": "stream",
          "name": "stdout",
          "text": [
            "['S5', 'S2', 'S3', 'S4', 'S17', 'S10', 'S11', 'S16', 'S8', 'S6', 'S7', 'S9', 'S13', 'S14', 'S15']\n"
          ]
        }
      ]
    },
    {
      "cell_type": "code",
      "source": [
        ""
      ],
      "metadata": {
        "id": "Ij4vUTBnMCGT"
      },
      "execution_count": null,
      "outputs": []
    },
    {
      "cell_type": "code",
      "source": [
        "for study in new_list:\n",
        "  print(new_path + \"WESAD/\" + study +'/' + study + '_E4_Data.zip')\n",
        "  list_of_zips = [study for study in os.listdir(new_path + \"WESAD/\" + study) if \".zip\" in study]\n",
        "  #for zip in list_of_zips:\n",
        "  with zipfile.ZipFile(new_path + \"WESAD/\" + study +'/' + study + '_E4_Data.zip', 'r') as zip_ref:\n",
        "    print(new_path + \"WESAD/\" + study +'/' + study)\n",
        "    zip_ref.extractall(new_path + \"WESAD/\" + study +'/' + study)\n"
      ],
      "metadata": {
        "colab": {
          "base_uri": "https://localhost:8080/"
        },
        "id": "ODq3l3J-HphG",
        "outputId": "696ff17d-a0b2-4813-9714-3ee8a6ff0315"
      },
      "execution_count": null,
      "outputs": [
        {
          "output_type": "stream",
          "name": "stdout",
          "text": [
            "/content/drive/My Drive/stress_data_unzipped/WESAD/S5/S5_E4_Data.zip\n",
            "/content/drive/My Drive/stress_data_unzipped/WESAD/S5/S5\n",
            "/content/drive/My Drive/stress_data_unzipped/WESAD/S2/S2_E4_Data.zip\n",
            "/content/drive/My Drive/stress_data_unzipped/WESAD/S2/S2\n",
            "/content/drive/My Drive/stress_data_unzipped/WESAD/S3/S3_E4_Data.zip\n",
            "/content/drive/My Drive/stress_data_unzipped/WESAD/S3/S3\n",
            "/content/drive/My Drive/stress_data_unzipped/WESAD/S4/S4_E4_Data.zip\n",
            "/content/drive/My Drive/stress_data_unzipped/WESAD/S4/S4\n",
            "/content/drive/My Drive/stress_data_unzipped/WESAD/S17/S17_E4_Data.zip\n",
            "/content/drive/My Drive/stress_data_unzipped/WESAD/S17/S17\n",
            "/content/drive/My Drive/stress_data_unzipped/WESAD/S10/S10_E4_Data.zip\n",
            "/content/drive/My Drive/stress_data_unzipped/WESAD/S10/S10\n",
            "/content/drive/My Drive/stress_data_unzipped/WESAD/S11/S11_E4_Data.zip\n",
            "/content/drive/My Drive/stress_data_unzipped/WESAD/S11/S11\n",
            "/content/drive/My Drive/stress_data_unzipped/WESAD/S16/S16_E4_Data.zip\n",
            "/content/drive/My Drive/stress_data_unzipped/WESAD/S16/S16\n",
            "/content/drive/My Drive/stress_data_unzipped/WESAD/S8/S8_E4_Data.zip\n",
            "/content/drive/My Drive/stress_data_unzipped/WESAD/S8/S8\n",
            "/content/drive/My Drive/stress_data_unzipped/WESAD/S6/S6_E4_Data.zip\n",
            "/content/drive/My Drive/stress_data_unzipped/WESAD/S6/S6\n",
            "/content/drive/My Drive/stress_data_unzipped/WESAD/S7/S7_E4_Data.zip\n",
            "/content/drive/My Drive/stress_data_unzipped/WESAD/S7/S7\n",
            "/content/drive/My Drive/stress_data_unzipped/WESAD/S9/S9_E4_Data.zip\n",
            "/content/drive/My Drive/stress_data_unzipped/WESAD/S9/S9\n",
            "/content/drive/My Drive/stress_data_unzipped/WESAD/S13/S13_E4_Data.zip\n",
            "/content/drive/My Drive/stress_data_unzipped/WESAD/S13/S13\n",
            "/content/drive/My Drive/stress_data_unzipped/WESAD/S14/S14_E4_Data.zip\n",
            "/content/drive/My Drive/stress_data_unzipped/WESAD/S14/S14\n",
            "/content/drive/My Drive/stress_data_unzipped/WESAD/S15/S15_E4_Data.zip\n",
            "/content/drive/My Drive/stress_data_unzipped/WESAD/S15/S15\n"
          ]
        }
      ]
    },
    {
      "cell_type": "code",
      "source": [
        "unzipped_path = \"/content/drive/My Drive/stress_data_unzipped/unzipped/\"\n",
        "list_of_data_dir = [study for study in os.listdir(unzipped_path) if \".zip\" in study]\n",
        "print(list_of_data_dir)"
      ],
      "metadata": {
        "colab": {
          "base_uri": "https://localhost:8080/"
        },
        "id": "q4De6zYGKn38",
        "outputId": "bcc46d50-0b41-4a7d-c5ca-7f522ce73a38"
      },
      "execution_count": null,
      "outputs": [
        {
          "output_type": "stream",
          "name": "stdout",
          "text": [
            "[]\n"
          ]
        }
      ]
    }
  ]
}