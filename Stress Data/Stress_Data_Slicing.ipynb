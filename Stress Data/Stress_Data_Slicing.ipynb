{
  "nbformat": 4,
  "nbformat_minor": 0,
  "metadata": {
    "colab": {
      "name": "Stress Data Slicing.ipynb",
      "provenance": []
    },
    "kernelspec": {
      "name": "python3",
      "display_name": "Python 3"
    },
    "language_info": {
      "name": "python"
    }
  },
  "cells": [
    {
      "cell_type": "code",
      "execution_count": null,
      "metadata": {
        "id": "TjwQREkkvelH"
      },
      "outputs": [],
      "source": [
        "# import libraries\n",
        "import numpy as np\n",
        "import pandas as pd\n",
        "import matplotlib.pyplot as plt\n",
        "import os.path"
      ]
    },
    {
      "cell_type": "code",
      "source": [
        "# load drive\n",
        "from google.colab import drive\n",
        "drive.mount('/content/drive')"
      ],
      "metadata": {
        "colab": {
          "base_uri": "https://localhost:8080/"
        },
        "id": "4tDxaMeDwT6y",
        "outputId": "83f4b379-b577-4722-ff52-302d9538e9b1"
      },
      "execution_count": null,
      "outputs": [
        {
          "output_type": "stream",
          "name": "stdout",
          "text": [
            "Mounted at /content/drive\n"
          ]
        }
      ]
    },
    {
      "cell_type": "code",
      "source": [
        "# make participant list\n",
        "participants = []\n",
        "for i in range(1,18):\n",
        "  if i != 1 and i!=12:\n",
        "    participants.append(\"S\"+ str(i))\n",
        "\n",
        "print(participants)\n",
        "\n",
        "participants_id = [x[1:] for x in participants]\n",
        "print(participants_id)"
      ],
      "metadata": {
        "colab": {
          "base_uri": "https://localhost:8080/"
        },
        "id": "ZRazsG7Swpjh",
        "outputId": "ec88326a-5d28-417a-99ac-69f1c4ed2eea"
      },
      "execution_count": null,
      "outputs": [
        {
          "output_type": "stream",
          "name": "stdout",
          "text": [
            "['S2', 'S3', 'S4', 'S5', 'S6', 'S7', 'S8', 'S9', 'S10', 'S11', 'S13', 'S14', 'S15', 'S16', 'S17']\n",
            "['2', '3', '4', '5', '6', '7', '8', '9', '10', '11', '13', '14', '15', '16', '17']\n"
          ]
        }
      ]
    },
    {
      "cell_type": "code",
      "source": [
        "def getSplitLabels(participant):\n",
        "  path = '/content/drive/My Drive/stress_data_unzipped/WESAD/S{}/labels_split.csv'\n",
        "  return pd.read_csv(path.format(participant))"
      ],
      "metadata": {
        "id": "bdE76GKgxRwZ"
      },
      "execution_count": null,
      "outputs": []
    }
  ]
}