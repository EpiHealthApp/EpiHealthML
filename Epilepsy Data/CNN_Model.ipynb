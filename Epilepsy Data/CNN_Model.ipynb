{
  "cells": [
    {
      "cell_type": "code",
      "execution_count": null,
      "metadata": {
        "id": "rqxzPfAiRgDV"
      },
      "outputs": [],
      "source": [
        "import numpy as np\n",
        "import matplotlib.pyplot as plt\n",
        "import pandas as pd\n",
        "from torch.autograd import Variable\n",
        "from sklearn.preprocessing import MinMaxScaler\n",
        "import os, os.path\n",
        "\n",
        "import torch\n",
        "import torch.nn as nn\n",
        "import torch.nn.functional as F\n",
        "import torch.optim as optim\n",
        "from torchvision import datasets, transforms"
      ]
    },
    {
      "cell_type": "code",
      "execution_count": null,
      "metadata": {
        "id": "QgpvdHMaH6QS"
      },
      "outputs": [],
      "source": [
        "\n",
        "if torch.cuda.is_available():\n",
        "  device = torch.device(\"cuda\")\n",
        "else:\n",
        "  device = torch.device(\"cpu\")\n"
      ]
    },
    {
      "cell_type": "code",
      "execution_count": null,
      "metadata": {
        "id": "7YGdvq11gY3L"
      },
      "outputs": [],
      "source": [
        "#device = torch.device(\"cpu\")"
      ]
    },
    {
      "cell_type": "markdown",
      "metadata": {
        "id": "ZNdG4ZT3EGR0"
      },
      "source": [
        ""
      ]
    },
    {
      "cell_type": "code",
      "execution_count": null,
      "metadata": {
        "colab": {
          "base_uri": "https://localhost:8080/"
        },
        "id": "dlHS0ILqe3ah",
        "outputId": "6fa15206-494d-46f3-e8d6-ccc5358dfef3"
      },
      "outputs": [
        {
          "output_type": "stream",
          "name": "stdout",
          "text": [
            "Mounted at /content/drive\n"
          ]
        }
      ],
      "source": [
        "from google.colab import drive\n",
        "drive.mount('/content/drive')"
      ]
    },
    {
      "cell_type": "code",
      "execution_count": null,
      "metadata": {
        "id": "wiYmNvY8pnCn"
      },
      "outputs": [],
      "source": [
        "patients = ['01709','00182','01575']\n",
        "#, '01828',  '01870', '01842', '01844', '01097', '01676', '01849', '01808', '00501', '00172', '01763', '00502']\n"
      ]
    },
    {
      "cell_type": "code",
      "execution_count": null,
      "metadata": {
        "id": "okgIrbuMjPdT"
      },
      "outputs": [],
      "source": [
        "class Patient():\n",
        "  def __init__(self, id):\n",
        "    self.fields = [\"BVP\", \"EDA\", \"HR\", \"TEMP\",\"Mag\", \"x\", \"y\", \"z\"]\n",
        "    self.id = id\n",
        "    self.length = self.getNumberOfSegments(id)\n",
        "    self.targets = self.getPatientTarget()\n",
        "    self.segments = np.zeros((self.length, 8, 200))\n",
        "    #self.loadSegments()\n",
        "\n",
        "  def __len__(self):\n",
        "    return self.length\n",
        "\n",
        "  def getNumberOfSegments(self, patient_id):\n",
        "    #get number of segments for a given patient\n",
        "    path = '/content/drive/My Drive/epi_data_folders/MSEL_{}/segments/x/'.format(patient_id)\n",
        "    length = 0\n",
        "    try:\n",
        "      length = len([name for name in os.listdir(path)])\n",
        "    except:\n",
        "      print(\"missing data for patient: {}\".format(patient_id))\n",
        "    return length\n",
        "\n",
        "  def getPatientData(self, field, number):\n",
        "    path = '/content/drive/My Drive/epi_data_folders/MSEL_{}/segments/{}/segment{}.parquet'.format(self.id, field, number)\n",
        "\n",
        "    return pd.read_parquet(path, engine=\"auto\")[field].to_numpy()\n",
        "\n",
        "  def getPatientTarget(self):\n",
        "    path = '/content/drive/My Drive/epi_data_folders/MSEL_{}/MSEL_{}_labels_split.csv'.format(self.id, self.id)\n",
        "\n",
        "    df = pd.read_csv(path)\n",
        "    df = df.drop(columns=[\"name\", \"study_start_time\", \"study_duration\", \"label_start_time\", \"label_duration\", \"label_note\"])\n",
        "\n",
        "    return df[\"label\"].to_numpy()\n",
        "\n",
        "  def loadSegments(self):\n",
        "    print(\"loading data for patient: {}\".format(self.id))\n",
        "    for i in range(self.length):\n",
        "      for j in range(len(self.fields)):\n",
        "        self.segments[i, j, :] = self.getPatientData(self.fields[j], i)\n",
        "\n",
        "  def getTarget(self, number):\n",
        "    return self.targets[number]\n",
        "\n",
        "  def getTargetRange(self, i, j):\n",
        "    return self.targets[i:j]"
      ]
    },
    {
      "cell_type": "code",
      "execution_count": null,
      "metadata": {
        "id": "llj8enMUFppO"
      },
      "outputs": [],
      "source": [
        "class Patients():\n",
        "  def __init__(self, patient_ids, seq_len=10, seq_step=10):\n",
        "    self.patients = {}\n",
        "    self.seq_len = seq_len\n",
        "    self.seq_step = seq_step\n",
        "    \n",
        "    # patient_ids: list of patients by ids\n",
        "    self.patient_ids = self.filterPatients(patient_ids)\n",
        "    self.patient_ids.sort()\n",
        "\n",
        "    for patient_id in self.patient_ids:\n",
        "      self.patients[patient_id] = Patient(patient_id)\n",
        "\n",
        "    self.length = self.getNumberOfSegmentsForAllPatients(self.patients)\n",
        "\n",
        "\n",
        "    self.patient_lengths = [self.patients[patient_id].length - (self.seq_len-1) for patient_id in self.patient_ids]\n",
        "\n",
        "    self.patient_accumulated_lengths = [0]\n",
        "    for patient_length in self.patient_lengths:\n",
        "      self.patient_accumulated_lengths.append(patient_length + self.patient_accumulated_lengths[-1])\n",
        "\n",
        "    print(self.patient_accumulated_lengths)\n",
        "\n",
        "  \n",
        "\n",
        "  def __len__(self):\n",
        "    return self.length\n",
        "\n",
        "  def getNumberOfSegmentsForAllPatients(self, patients):\n",
        "    length = 0\n",
        "\n",
        "    for id in patients:\n",
        "      length += self.getPatient(id).length\n",
        "\n",
        "    return length\n",
        "\n",
        "  def getPatient(self, id):\n",
        "    return self.patients[id]\n",
        "\n",
        "  def getNumberOfPatients(self):\n",
        "    return len(self.patients)\n",
        "\n",
        "  def filterPatients(self, patients):\n",
        "    filtered_list = []\n",
        "\n",
        "    for patient_id in patients:\n",
        "      path = '/content/drive/My Drive/epi_data_folders/MSEL_{}/segments/x/segment59.parquet'.format(patient_id)\n",
        "      if os.path.isfile(path):\n",
        "        filtered_list.append(patient_id)\n",
        "\n",
        "    return filtered_list\n",
        "\n",
        "  def getPatientIndex(self, value):\n",
        "    #returns the patient index\n",
        "\n",
        "    value = value * self.seq_step\n",
        "\n",
        "    for i in range(1, len(self.patient_accumulated_lengths)):\n",
        "      if value < self.patient_accumulated_lengths[i]:\n",
        "        return i - 1\n",
        "\n",
        "    print(\"Something weird might be happening. Value: {}\".format(value))\n",
        "    return -1\n",
        "\n"
      ]
    },
    {
      "cell_type": "code",
      "execution_count": null,
      "metadata": {
        "id": "4mYBaUWIRvFR"
      },
      "outputs": [],
      "source": [
        "class TimeseriesDataset(torch.utils.data.Dataset):   \n",
        "  def __init__(self, patients, seq_len=10, seq_step=10):\n",
        "    self.patients = Patients(patients, seq_len, seq_step)\n",
        "    self.seq_len = seq_len\n",
        "    self.seq_step = seq_step\n",
        "    self.fields = [\"BVP\", \"EDA\", \"HR\", \"TEMP\",\"Mag\", \"x\", \"y\", \"z\"]\n",
        "\n",
        "  def __len__(self):\n",
        "    return (self.patients.length - (self.seq_len-1) * self.patients.getNumberOfPatients()) // self.seq_step\n",
        "\n",
        "  def __getitem__(self, relative_index):\n",
        "    patient_index = self.patients.getPatientIndex(relative_index)\n",
        "    patient_accumulated = self.patients.patient_accumulated_lengths[patient_index]\n",
        "\n",
        "    start = relative_index * self.seq_step - patient_accumulated\n",
        "    end = start + self.seq_len\n",
        "\n",
        "    patient_id = self.patients.patient_ids[patient_index]\n",
        "    patient = self.patients.getPatient(patient_id)\n",
        "    \n",
        "    sequence = patient.segments[start:end, :, :]\n",
        "    sequence.reshape(-1, )\n",
        "\n",
        "    return (sequence, patient.getTargetRange(start, end))"
      ]
    },
    {
      "cell_type": "markdown",
      "source": [
        "4 patients\n",
        "\n",
        "[500, 100, 700, 1000]\n",
        "\n",
        "[500, 600, 1300, 2300]\n",
        "\n",
        "total_length = 2300"
      ],
      "metadata": {
        "id": "RxRHPRH4Lfu-"
      }
    },
    {
      "cell_type": "code",
      "execution_count": null,
      "metadata": {
        "colab": {
          "base_uri": "https://localhost:8080/"
        },
        "id": "TJwrrR4Twybs",
        "outputId": "ff4643b0-ffa6-423a-fdc7-61bb8e2969d3"
      },
      "outputs": [
        {
          "output_type": "stream",
          "name": "stdout",
          "text": [
            "[0, 1297, 3469, 7218]\n",
            "0 torch.Size([64, 10, 8, 200]) torch.Size([64, 10])\n",
            "1 torch.Size([64, 10, 8, 200]) torch.Size([64, 10])\n",
            "2 torch.Size([64, 10, 8, 200]) torch.Size([64, 10])\n",
            "3 torch.Size([64, 10, 8, 200]) torch.Size([64, 10])\n",
            "4 torch.Size([64, 10, 8, 200]) torch.Size([64, 10])\n",
            "5 torch.Size([64, 10, 8, 200]) torch.Size([64, 10])\n",
            "6 torch.Size([64, 10, 8, 200]) torch.Size([64, 10])\n",
            "7 torch.Size([64, 10, 8, 200]) torch.Size([64, 10])\n",
            "8 torch.Size([64, 10, 8, 200]) torch.Size([64, 10])\n",
            "9 torch.Size([64, 10, 8, 200]) torch.Size([64, 10])\n",
            "10 torch.Size([64, 10, 8, 200]) torch.Size([64, 10])\n",
            "11 torch.Size([17, 10, 8, 200]) torch.Size([17, 10])\n"
          ]
        }
      ],
      "source": [
        "train_dataset = TimeseriesDataset(patients, seq_len=10, seq_step=10)\n",
        "train_loader = torch.utils.data.DataLoader(train_dataset, batch_size = 64, shuffle = False)\n",
        "\n",
        "\n",
        "\"\"\"\n",
        "batch_size: 4\n",
        "[1, 2, 3, 4, 5, 6, 7, 8, 9, 10]\n",
        "\n",
        "[[1, 2, 3, 4], [2, 3, 4, 5], [3, 4, 5, 6], [4, 5, 6, 7]]\n",
        "\"\"\"\n",
        "\n",
        "for i, d in enumerate(train_loader):\n",
        "    #d[0] is x. shape: (64, 60, 8, 7679) = (batch_size, segment_size, fields, # rows in a segment)\n",
        "    #d[1] is y. shape: (64, 60) (batch size, segment size)\n",
        "    #TO-DO: do one hot encoding for y\n",
        "    print(i, d[0].shape, d[1].shape)"
      ]
    },
    {
      "cell_type": "code",
      "source": [
        "#CNN model\n",
        "#creating model\n",
        "\n",
        "class Net(nn.Module):\n",
        "    def __init__(self):\n",
        "        super(Net, self).__init__()\n",
        "        \n",
        "        # model = Sequential()\n",
        "        # model.add(Conv1D(filters=128, kernel_size=2, activation='relu', input_shape=(30, 5)))\n",
        "        # model.add(Conv1D(filters=128, kernel_size=2, activation='relu'))\n",
        "        # model.add(Conv1D(filters=128, kernel_size=2, activation='relu'))\n",
        "        # model.add(MaxPooling1D(pool_size=2))\n",
        "        # model.add(Flatten())\n",
        "        # model.add(Dense(100, activation='relu'))\n",
        "        # model.add(Dense(1))\n",
        "        # model.compile(optimizer='adam', loss='mse')\n",
        "        # # fit model\n",
        "        # model.fit(Xtrain, Ytrain, epochs=200, verbose=0)\n",
        "\n",
        "        self.net = nn.Sequential()\n",
        "        #activation map of size Bx3x32x32\n",
        "        #activation map of size Bx8x32\n",
        "        self.net.add_module('cv1', nn.Conv1d(in_channels=8, out_channels=32, kernel_size=2, stride=1, padding=0, dilation=1))\n",
        "        #activation map of size Bx32x30x30\n",
        "        #activation map of size Bx32x30\n",
        "        self.net.add_module('rl1', nn.ReLU())\n",
        "        #activation map of size Bx32x30x30\n",
        "        # self.net.add_module('mp1', nn.MaxPool1d(kernel_size=2, stride=None, padding=0, dilation=1))\n",
        "        #activation map of size Bx32x15x15\n",
        "        self.net.add_module('cv2', nn.Conv1d(in_channels=32, out_channels=64, kernel_size=2, stride=1, padding=0, dilation=1))\n",
        "        #activation map of size Bx64x13x13\n",
        "        self.net.add_module('rl2', nn.ReLU())\n",
        "        #activation map of size Bx64x13x13\n",
        "        self.net.add_module('mp2', nn.MaxPool1d(kernel_size=2, stride=None, padding=0, dilation=1))\n",
        "        #input size Bx64x6x6\n",
        "        self.net.add_module('fl1', nn.Flatten())\n",
        "        # self.net.add_module('fc1', nn.Linear(in_features=2304, out_features=128))\n",
        "        self.net.add_module('fc1', nn.Linear(in_features=384, out_features=128))\n",
        "        self.net.add_module('rl3', nn.ReLU())\n",
        "        self.net.add_module('fc1', nn.Linear(in_features=128, out_features=1))\n",
        "        # self.net.add_module('dp2', nn.Dropout(p=0.5))\n",
        "        # self.net.add_module('fc2', nn.Linear(in_features=128, out_features=10))\n",
        "\n",
        "    def forward(self, x):\n",
        "        return self.net(x)\n",
        "    \n",
        "model = Net().to(device)\n",
        "\n",
        "# Let's define an optimizer\n",
        "\n",
        "optimizer = optim.Adam(model.parameters(), lr=0.001)\n",
        "\n",
        "# Let's define a Loss function\n",
        "\n",
        "lossfun = nn.CrossEntropyLoss()  # Use nn.NLLLoss with Logsoftmax"
      ],
      "metadata": {
        "id": "c5WnXzPD-vRR"
      },
      "execution_count": null,
      "outputs": []
    },
    {
      "cell_type": "code",
      "source": [
        "def train(model, train_loader, epochs):\n",
        "    model.train()\n",
        "\n",
        "    # Define train epochs\n",
        "\n",
        "    epoch_loss = []\n",
        "    epoch_accu = []\n",
        "    for epoch in range(epochs):\n",
        "\n",
        "        # iterate through train dataset\n",
        "\n",
        "        for batch_idx, (data, target) in enumerate(train_loader):\n",
        "\n",
        "            data, target = data.to(device), target.to(device)\n",
        "\n",
        "            data = data.float()\n",
        "\n",
        "            # get output\n",
        "            output = model(data)\n",
        "\n",
        "            # compute loss function\n",
        "            loss = lossfun(output, target)\n",
        "\n",
        "            # backward pass\n",
        "            optimizer.zero_grad()\n",
        "            loss.backward()\n",
        "\n",
        "            # run optimizer \n",
        "            optimizer.step()\n",
        "\n",
        "            # bookkeeping\n",
        "            accuracy = (output.argmax(-1) == target).float().mean()\n",
        "            epoch_loss.append(loss.item())\n",
        "            epoch_accu.append(accuracy.item())\n",
        "\n",
        "            if batch_idx % 50 == 0:\n",
        "                print('Train Epoch: {} [{}/{} ({:.0f}%)]\\tLoss: {:.6f}\\tAccuracy: {:.2f}'.format(\n",
        "                    epoch+1, batch_idx * len(data), len(train_loader.dataset),\n",
        "                    100. * batch_idx / len(train_loader), loss.item(), accuracy.item()))\n",
        "\n",
        "        print('Train Epoch: {}\\tAverage Loss: {:.6f}\\tAverage Accuracy: {:.2f}'.format(\n",
        "            epoch+1, sum(epoch_loss)/len(epoch_loss), sum(epoch_accu)/len(epoch_accu)))\n",
        "            \n",
        "    # save network\n",
        "    torch.save(model.state_dict(), \"epi_cnn.pt\")\n",
        "    \n",
        "    return epoch_loss, epoch_accu\n",
        "\n",
        "epoch_loss, epoch_accu = train(model, train_loader, epochs=10)"
      ],
      "metadata": {
        "colab": {
          "base_uri": "https://localhost:8080/",
          "height": 201
        },
        "id": "CVmrgWisUELP",
        "outputId": "5c87cbe9-2642-4bd0-fbe6-a01c2433f540"
      },
      "execution_count": null,
      "outputs": [
        {
          "output_type": "error",
          "ename": "NameError",
          "evalue": "ignored",
          "traceback": [
            "\u001b[0;31m---------------------------------------------------------------------------\u001b[0m",
            "\u001b[0;31mNameError\u001b[0m                                 Traceback (most recent call last)",
            "\u001b[0;32m<ipython-input-10-cff4cc54c63a>\u001b[0m in \u001b[0;36m<module>\u001b[0;34m()\u001b[0m\n\u001b[1;32m     47\u001b[0m     \u001b[0;32mreturn\u001b[0m \u001b[0mepoch_loss\u001b[0m\u001b[0;34m,\u001b[0m \u001b[0mepoch_accu\u001b[0m\u001b[0;34m\u001b[0m\u001b[0;34m\u001b[0m\u001b[0m\n\u001b[1;32m     48\u001b[0m \u001b[0;34m\u001b[0m\u001b[0m\n\u001b[0;32m---> 49\u001b[0;31m \u001b[0mepoch_loss\u001b[0m\u001b[0;34m,\u001b[0m \u001b[0mepoch_accu\u001b[0m \u001b[0;34m=\u001b[0m \u001b[0mtrain\u001b[0m\u001b[0;34m(\u001b[0m\u001b[0mmodel\u001b[0m\u001b[0;34m,\u001b[0m \u001b[0mtrain_loader\u001b[0m\u001b[0;34m,\u001b[0m \u001b[0mepochs\u001b[0m\u001b[0;34m=\u001b[0m\u001b[0;36m10\u001b[0m\u001b[0;34m)\u001b[0m\u001b[0;34m\u001b[0m\u001b[0;34m\u001b[0m\u001b[0m\n\u001b[0m",
            "\u001b[0;31mNameError\u001b[0m: name 'model' is not defined"
          ]
        }
      ]
    },
    {
      "cell_type": "code",
      "execution_count": null,
      "metadata": {
        "id": "zVoc3mO-FnIT"
      },
      "outputs": [],
      "source": [
        "class RNN(nn.Module):\n",
        "    def __init__(self, input_size, hidden_size, num_layers, num_classes):\n",
        "        super(RNN, self).__init__()\n",
        "        self.hidden_size = hidden_size\n",
        "        self.num_layers = num_layers\n",
        "        self.lstm = nn.LSTM(input_size, hidden_size, num_layers, batch_first=True)\n",
        "        self.fc = nn.Linear(hidden_size, num_classes)\n",
        "    \n",
        "    def forward(self, x):\n",
        "        # Set initial hidden and cell states \n",
        "        h0 = torch.zeros(self.num_layers, x.size(0), self.hidden_size).to(device) \n",
        "        c0 = torch.zeros(self.num_layers, x.size(0), self.hidden_size).to(device)\n",
        "        \n",
        "        # Forward propagate LSTM\n",
        "        out, _ = self.lstm(x, (h0, c0))  # out: tensor of shape (batch_size, seq_length, hidden_size)\n",
        "        \n",
        "        # Decode the hidden state of the last time step\n",
        "        out = self.fc(out[:, -1, :])\n",
        "        return out\n",
        "\n",
        "model = RNN(input_size=8, hidden_size=128, num_layers=4, num_classes=3).to(device)"
      ]
    },
    {
      "cell_type": "code",
      "execution_count": null,
      "metadata": {
        "id": "GAsIfRqiGxe0",
        "colab": {
          "base_uri": "https://localhost:8080/",
          "height": 235
        },
        "outputId": "7fda30a9-23fd-482d-9c79-7561320ed31a"
      },
      "outputs": [
        {
          "output_type": "error",
          "ename": "RuntimeError",
          "evalue": "ignored",
          "traceback": [
            "\u001b[0;31m---------------------------------------------------------------------------\u001b[0m",
            "\u001b[0;31mRuntimeError\u001b[0m                              Traceback (most recent call last)",
            "\u001b[0;32m<ipython-input-11-d6982a20fbba>\u001b[0m in \u001b[0;36m<module>\u001b[0;34m()\u001b[0m\n\u001b[1;32m     12\u001b[0m \u001b[0;32mfor\u001b[0m \u001b[0mepoch\u001b[0m \u001b[0;32min\u001b[0m \u001b[0mrange\u001b[0m\u001b[0;34m(\u001b[0m\u001b[0mnum_epochs\u001b[0m\u001b[0;34m)\u001b[0m\u001b[0;34m:\u001b[0m\u001b[0;34m\u001b[0m\u001b[0;34m\u001b[0m\u001b[0m\n\u001b[1;32m     13\u001b[0m     \u001b[0;32mfor\u001b[0m \u001b[0mi\u001b[0m\u001b[0;34m,\u001b[0m \u001b[0;34m(\u001b[0m\u001b[0mimages\u001b[0m\u001b[0;34m,\u001b[0m \u001b[0mlabels\u001b[0m\u001b[0;34m)\u001b[0m \u001b[0;32min\u001b[0m \u001b[0menumerate\u001b[0m\u001b[0;34m(\u001b[0m\u001b[0mtrain_loader\u001b[0m\u001b[0;34m)\u001b[0m\u001b[0;34m:\u001b[0m\u001b[0;34m\u001b[0m\u001b[0;34m\u001b[0m\u001b[0m\n\u001b[0;32m---> 14\u001b[0;31m         \u001b[0mimages\u001b[0m \u001b[0;34m=\u001b[0m \u001b[0mimages\u001b[0m\u001b[0;34m.\u001b[0m\u001b[0mreshape\u001b[0m\u001b[0;34m(\u001b[0m\u001b[0;34m-\u001b[0m\u001b[0;36m1\u001b[0m\u001b[0;34m,\u001b[0m \u001b[0msequence_length\u001b[0m\u001b[0;34m,\u001b[0m \u001b[0minput_size\u001b[0m\u001b[0;34m)\u001b[0m\u001b[0;34m.\u001b[0m\u001b[0mto\u001b[0m\u001b[0;34m(\u001b[0m\u001b[0mdevice\u001b[0m\u001b[0;34m)\u001b[0m\u001b[0;34m\u001b[0m\u001b[0;34m\u001b[0m\u001b[0m\n\u001b[0m\u001b[1;32m     15\u001b[0m         \u001b[0mlabels\u001b[0m \u001b[0;34m=\u001b[0m \u001b[0mlabels\u001b[0m\u001b[0;34m.\u001b[0m\u001b[0mto\u001b[0m\u001b[0;34m(\u001b[0m\u001b[0mdevice\u001b[0m\u001b[0;34m)\u001b[0m\u001b[0;34m\u001b[0m\u001b[0;34m\u001b[0m\u001b[0m\n\u001b[1;32m     16\u001b[0m \u001b[0;34m\u001b[0m\u001b[0m\n",
            "\u001b[0;31mRuntimeError\u001b[0m: shape '[-1, 60, 8]' is invalid for input of size 39316480"
          ]
        }
      ],
      "source": [
        "learning_rate = 0.001\n",
        "num_epochs = 10\n",
        "sequence_length = 60\n",
        "input_size = 8\n",
        "\n",
        "# Loss and optimizer\n",
        "criterion = nn.CrossEntropyLoss()\n",
        "optimizer = torch.optim.Adam(model.parameters(), lr=learning_rate)\n",
        "\n",
        "# Train the model\n",
        "total_step = len(train_loader)\n",
        "for epoch in range(num_epochs):\n",
        "    for i, (sequence, labels) in enumerate(train_loader):\n",
        "        images = images.reshape(-1, sequence_length, input_size).to(device)\n",
        "        labels = labels.to(device)\n",
        "        \n",
        "        # Forward pass\n",
        "        outputs = model(images)\n",
        "        loss = criterion(outputs, labels)\n",
        "        \n",
        "        # Backward and optimize\n",
        "        optimizer.zero_grad()\n",
        "        loss.backward()\n",
        "        optimizer.step()\n",
        "        \n",
        "        if (i+1) % 100 == 0:\n",
        "            print ('Epoch [{}/{}], Step [{}/{}], Loss: {:.4f}' \n",
        "                   .format(epoch+1, num_epochs, i+1, total_step, loss.item()))\n",
        "\"\"\"\n",
        "# Test the model\n",
        "model.eval()\n",
        "with torch.no_grad():\n",
        "    correct = 0\n",
        "    total = 0\n",
        "    for images, labels in test_loader:\n",
        "        images = images.reshape(-1, sequence_length, input_size).to(device)\n",
        "        labels = labels.to(device)\n",
        "        outputs = model(images)\n",
        "        _, predicted = torch.max(outputs.data, 1)\n",
        "        total += labels.size(0)\n",
        "        correct += (predicted == labels).sum().item()\n",
        "\n",
        "    print('Test Accuracy of the model on the 10000 test images: {} %'.format(100 * correct / total)) \n",
        "\n",
        "# Save the model checkpoint\n",
        "torch.save(model.state_dict(), 'model.ckpt')\n",
        "\n",
        "\"\"\""
      ]
    }
  ],
  "metadata": {
    "colab": {
      "collapsed_sections": [],
      "machine_shape": "hm",
      "name": "CNN Model.ipynb",
      "provenance": []
    },
    "kernelspec": {
      "display_name": "Python 3",
      "name": "python3"
    },
    "language_info": {
      "name": "python"
    },
    "accelerator": "GPU",
    "gpuClass": "standard"
  },
  "nbformat": 4,
  "nbformat_minor": 0
}