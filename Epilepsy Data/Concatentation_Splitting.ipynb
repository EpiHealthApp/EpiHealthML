{
  "cells": [
    {
      "cell_type": "markdown",
      "metadata": {
        "id": "U-4BnlX_Neyu"
      },
      "source": [
        "**Findings during data preprocessing:**\n",
        "\n",
        "\n",
        "*   No Readme file is provided\n",
        "*   The data is sampled at 128Hz (consecutive two rows has a time gap of 7.8125ms)\n",
        "*   There are many time gaps of different lengths between original segments across different signals for every patient \n",
        "*   Patient 01849 has a time gap of 15.625ms within one segment\n",
        "*   Patient 00095 and icu patient are removed because they have only a few broken segments"
      ]
    },
    {
      "cell_type": "code",
      "execution_count": null,
      "metadata": {
        "id": "orzF7oPSambg"
      },
      "outputs": [],
      "source": [
        "import pandas as pd\n",
        "import numpy as np\n",
        "import matplotlib.pyplot as plt\n",
        "import os\n",
        "import math\n",
        "import shutil\n",
        "import copy\n",
        "import multiprocessing\n",
        "import timeit\n",
        "from datetime import datetime"
      ]
    },
    {
      "cell_type": "code",
      "execution_count": null,
      "metadata": {
        "id": "sn6sm79DTrCA",
        "colab": {
          "base_uri": "https://localhost:8080/"
        },
        "outputId": "5fb394bd-3fd9-4e6b-a902-d7d6be2a2ed0"
      },
      "outputs": [
        {
          "output_type": "stream",
          "name": "stdout",
          "text": [
            "Mounted at /content/drive\n"
          ]
        }
      ],
      "source": [
        "from google.colab import drive\n",
        "drive.mount('/content/drive')"
      ]
    },
    {
      "cell_type": "code",
      "execution_count": null,
      "metadata": {
        "id": "bEh2POPXY5ZJ",
        "colab": {
          "base_uri": "https://localhost:8080/"
        },
        "outputId": "637d7ed1-0171-425f-db96-55333247e890"
      },
      "outputs": [
        {
          "output_type": "stream",
          "name": "stdout",
          "text": [
            "MSEL_00172  MSEL_00502\tMSEL_01676  MSEL_01808\tMSEL_01844  rapidsai-csp-utils\n",
            "MSEL_00182  MSEL_01097\tMSEL_01709  MSEL_01828\tMSEL_01849  start_end.csv\n",
            "MSEL_00501  MSEL_01575\tMSEL_01763  MSEL_01842\tMSEL_01870  start_end.gsheet\n"
          ]
        }
      ],
      "source": [
        "# get list of patient folders\n",
        "path = '/content/drive/My Drive/epi_data_folders'\n",
        "os.chdir(path)\n",
        "!ls"
      ]
    },
    {
      "cell_type": "code",
      "execution_count": null,
      "metadata": {
        "id": "-Tsp9gNR3e6s"
      },
      "outputs": [],
      "source": [
        "# remove existing concat_data folders\n",
        "for dir in os.listdir(\"./\"):\n",
        "  if \"MSEL\" in dir and \"concat_data\" in os.listdir(\"./\"+dir):\n",
        "    folder = \"./\"+dir+\"/concat_data\"\n",
        "    shutil.rmtree(folder)"
      ]
    },
    {
      "cell_type": "code",
      "execution_count": null,
      "metadata": {
        "colab": {
          "base_uri": "https://localhost:8080/"
        },
        "id": "6exMLW4OEzyM",
        "outputId": "12b570b4-a962-46e8-8a69-c5f7cec416b1"
      },
      "outputs": [
        {
          "output_type": "stream",
          "name": "stdout",
          "text": [
            "['01575', '01828', '01709', '01870', '01842', '01844', '01097', '00182', '01676', '01849', '01808', '00501', '00172', '01763', '00502']\n"
          ]
        }
      ],
      "source": [
        "# get all patient_nums\n",
        "patient_nums = []\n",
        "for dir in os.listdir(\"./\"):\n",
        "  if \"MSEL\" in dir:\n",
        "    patient_nums.append(dir[-5:])\n",
        "print(patient_nums)"
      ]
    },
    {
      "cell_type": "code",
      "source": [
        "# the time of the data 1564081654000 is in ms\n",
        "datetime.fromtimestamp(1564081654)"
      ],
      "metadata": {
        "colab": {
          "base_uri": "https://localhost:8080/"
        },
        "id": "wJdkzeBhxOkh",
        "outputId": "ec23eafb-d915-4ecd-b4e7-d771aeb3c227"
      },
      "execution_count": null,
      "outputs": [
        {
          "output_type": "execute_result",
          "data": {
            "text/plain": [
              "datetime.datetime(2019, 7, 25, 19, 7, 34)"
            ]
          },
          "metadata": {},
          "execution_count": 17
        }
      ]
    },
    {
      "cell_type": "markdown",
      "metadata": {
        "id": "3rUQRVJ6Ra01"
      },
      "source": [
        "**Since the original segments are of different lengths, we will concatenate them together and resplit**"
      ]
    },
    {
      "cell_type": "code",
      "execution_count": null,
      "metadata": {
        "id": "qBfOyMwTqbPz"
      },
      "outputs": [],
      "source": [
        "def concat(patient_num, channel_name):\n",
        "  cur_dir = \"/content/drive/My Drive/epi_data_folders/MSEL_{}/Empatica-{}\".format(patient_num, channel_name)\n",
        "  os.chdir(cur_dir)\n",
        "  seg_num = len(os.listdir(\"./\"))  # get the number of files in the folder\n",
        "                                   # the way it sorts the filename with numbers is \"1\", \"11\", \"2\"\n",
        "  df_lsts = []\n",
        "  for i in range(seg_num):\n",
        "    filename = \"MSEL_{}_Empatica-{}_{}_segment_{}.parquet\".format(patient_num, channel_name, channel_name, i)\n",
        "    df = pd.read_parquet(filename, engine=\"auto\")\n",
        "    if i != 0:\n",
        "      pre = df_lsts[-1][\"time\"][df_lsts[-1].shape[0] - 1]\n",
        "      next = df[\"time\"][0]\n",
        "\n",
        "      # fill the time gaps with np.nans\n",
        "      if next - pre != 7.8125:    # 128Hz corresponds to 7.8125ms\n",
        "        gap = pd.DataFrame(np.arange(pre, next, 7.8125))    # generate a timestamp every 7.8125ms\n",
        "        gap = gap.drop(0) \n",
        "        nan_col = np.empty((gap.shape[0],1)) \n",
        "        nan_col.fill(np.nan)\n",
        "        combined = pd.DataFrame(np.c_[gap, nan_col])    # add a column of np.nan to the timestamp\n",
        "        combined.rename({0: \"time\", 1: \"data\"}, axis = 1, inplace = True)\n",
        "        df_lsts.append(combined)\n",
        "\n",
        "    df_lsts.append(df)\n",
        "\n",
        "  df_concat = pd.concat(df_lsts)\n",
        "  df_concat.rename(columns = {\"data\": \"{}\".format(channel_name)}, inplace = True)\n",
        "  df_concat.reset_index(inplace=True)\n",
        "  df_concat.drop(columns=['index'], inplace=True)\n",
        "\n",
        "  return df_concat"
      ]
    },
    {
      "cell_type": "code",
      "execution_count": null,
      "metadata": {
        "id": "BewEXXjllmJF"
      },
      "outputs": [],
      "source": [
        "# concatenate for signal [\"BVP\", \"EDA\", \"HR\", \"TEMP\"]\n",
        "def concat_forall(patient_num):\n",
        "  for feature in [\"BVP\", \"EDA\", \"HR\", \"TEMP\"]:\n",
        "    df_concat = concat(patient_num, feature)\n",
        "    df_concat.to_parquet(\"/content/drive/MyDrive/epi_data_folders/MSEL_{}/{}_{}.parquet\".format(patient_num, patient_num, feature))"
      ]
    },
    {
      "cell_type": "code",
      "execution_count": null,
      "metadata": {
        "id": "xBT9hl6Z0zOn"
      },
      "outputs": [],
      "source": [
        "# since the directory name of Acc are different from other singals, we wrtie \n",
        "# a separate function for it\n",
        "def concat_Acc(patient_num):\n",
        "  cur_dir = \"/content/drive/MyDrive/epi_data_folders/MSEL_{}/Empatica-ACC\".format(patient_num)\n",
        "  os.chdir(cur_dir)\n",
        "  seg_num = len(os.listdir(\"./\"))\n",
        "  seg_num = int(seg_num / 4) # get the number of files in the folder\n",
        "                      # the way it sorts the filename with numbers is \"1\", \"11\", \"2\"\n",
        "\n",
        "  for coordinate in [\"Mag\", \"x\", \"y\", \"z\"]:\n",
        "    df_lsts = []\n",
        "    for i in range(seg_num):\n",
        "      filename = \"MSEL_{}_Empatica-ACC_Acc {}_segment_{}.parquet\".format(patient_num, coordinate, i)\n",
        "      df = pd.read_parquet(filename, engine=\"auto\")\n",
        "      if i != 0:\n",
        "        pre = df_lsts[-1][\"time\"][df_lsts[-1].shape[0] - 1]\n",
        "        next = df[\"time\"][0]\n",
        "\n",
        "        if next - pre != 7.8125:    # 128Hz corresponds to 7.8125ms\n",
        "          gap = pd.DataFrame(np.arange(pre, next, 7.8125))    # generate a timestamp every 7.8125ms\n",
        "          gap = gap.drop(0) \n",
        "          nan_col = np.empty((gap.shape[0],1)) \n",
        "          nan_col.fill(np.nan)\n",
        "          combined = pd.DataFrame(np.c_[gap, nan_col])    # add a column of np.nan to the timestamp\n",
        "          combined.rename({0: \"time\", 1: \"data\"}, axis = 1, inplace = True)\n",
        "          df_lsts.append(combined)\n",
        "          \n",
        "      df_lsts.append(df)\n",
        "    df_concat = pd.concat(df_lsts)\n",
        "    df_concat.rename(columns = {\"data\": \"{}\".format(coordinate)}, inplace = True)\n",
        "    df_concat.reset_index(inplace=True)\n",
        "    df_concat.drop(columns=['index'], inplace=True)\n",
        "    df_concat.to_parquet(\"/content/drive/MyDrive/epi_data_folders/MSEL_{}/{}_{}.parquet\".format(patient_num, patient_num, coordinate))"
      ]
    },
    {
      "cell_type": "code",
      "execution_count": null,
      "metadata": {
        "id": "6Z48zu1d_nKy"
      },
      "outputs": [],
      "source": [
        "# concatenate for all signals and all patients \n",
        "for patient_num in patient_nums:\n",
        "  concat_forall(patient_num)\n",
        "  concat_Acc(patient_num)"
      ]
    },
    {
      "cell_type": "code",
      "execution_count": null,
      "metadata": {
        "id": "ijxTtEW6CXaU"
      },
      "outputs": [],
      "source": [
        "# move all concatenated files to a separate directory\n",
        "for patient_num in patient_nums:\n",
        "  path = \"/content/drive/MyDrive/epi_data_folders/MSEL_{}/concat_data\".format(patient_num)\n",
        "  os.mkdir(path)\n",
        "  for signal in [\"BVP\", \"EDA\", \"HR\", \"Mag\", \"TEMP\", \"x\", \"y\", \"z\"]:\n",
        "    shutil.move(\"/content/drive/MyDrive/epi_data_folders/MSEL_{}/{}_{}.parquet\".format(patient_num, patient_num, signal), \"/content/drive/MyDrive/epi_data_folders/MSEL_{}/concat_data/{}_{}.parquet\".format(patient_num, patient_num, signal))"
      ]
    },
    {
      "cell_type": "code",
      "execution_count": null,
      "metadata": {
        "id": "bwZ4yiUSC-2W"
      },
      "outputs": [],
      "source": [
        "# This function is used to find one exact position of gaps bigger than 7.8125ms\n",
        "# with it, we find that Patient 01849 has a time gap of 15.625ms within one original segment\n",
        "def find_gap(df, start, end):\n",
        "  if start >= end - 1:\n",
        "    return start\n",
        "  mid = (start + end) // 2\n",
        "  if df.iloc[mid][\"time\"] - df.iloc[start][\"time\"] > (mid - start) * 7.8125:\n",
        "    return find_gap(df, start, mid)\n",
        "  else:\n",
        "    return find_gap(df, mid, end)"
      ]
    },
    {
      "cell_type": "code",
      "execution_count": null,
      "metadata": {
        "id": "dpHuhp8Z9xpq"
      },
      "outputs": [],
      "source": [
        "# For each patient, signals start and end at different time. This function \n",
        "# calculates the latest start time and earlies finish time for each signal\n",
        "# and save it to start_end.csv\n",
        "patient_lst = []\n",
        "start = []\n",
        "end = []\n",
        "for patient_num in patient_nums:\n",
        "  starttime = 0\n",
        "  finishtime = math.inf\n",
        "  for signal in [\"BVP\", \"EDA\", \"HR\", \"TEMP\", \"Mag\", \"x\", \"y\", \"z\"]:\n",
        "    df = pd.read_parquet(\"/content/drive/MyDrive/epi_data_folders/MSEL_{}/concat_data/{}_{}.parquet\".format(patient_num, patient_num, signal))\n",
        "    new_starttime = df[\"time\"][0]\n",
        "    if new_starttime > starttime:\n",
        "      starttime = new_starttime\n",
        "    new_finishtime = df[\"time\"][df.shape[0] - 1]\n",
        "    if new_finishtime < finishtime:\n",
        "      finishtime = new_finishtime\n",
        "  patient_lst.append(patient_num)\n",
        "  start.append(starttime)\n",
        "  end.append(finishtime)\n",
        "  df = pd.DataFrame(list(zip(patient_lst, start, end)), columns =['patient_num', 'start', \"end\"])\n",
        "  df.to_csv(\"/content/drive/MyDrive/epi_data_folders/start_end.csv\")"
      ]
    },
    {
      "cell_type": "markdown",
      "source": [
        "**For null values, we want to delete it across signals, so we merge them together.**"
      ],
      "metadata": {
        "id": "y25HzQqpLiiT"
      }
    },
    {
      "cell_type": "code",
      "source": [
        "# this function checks if sampled time points match among signals and merge the \n",
        "# five signals if they match\n",
        "def merge_signals(patient_num):\n",
        "  df_time = pd.read_csv(\"/content/drive/MyDrive/epi_data_folders/start_end.csv\")\n",
        "  df_patient_time = df_time.loc[df_time['patient_num'] == int(patient_num)]\n",
        "  start_time = list(df_patient_time[\"start\"])[0]\n",
        "  # print(start_time)\n",
        "  end_time = list(df_patient_time[\"end\"])[0]\n",
        "  # print(end_time)\n",
        "  dic = dict()\n",
        "\n",
        "  for signal in [\"BVP\", \"EDA\", \"HR\", \"TEMP\", \"Mag\", \"x\", \"y\", \"z\"]:\n",
        "    df = pd.read_parquet(\"/content/drive/MyDrive/epi_data_folders/MSEL_{}/normalized_data/{}_{}.parquet\".format(patient_num, patient_num, signal))\n",
        "    print(df.shape)\n",
        "    start_i = df.index[df['time'] == start_time].tolist()[0]\n",
        "    print(start_i)\n",
        "    end_i = df.index[df['time'] == end_time].tolist()[0]\n",
        "    print(end_i)\n",
        "    dic[signal] = df.iloc[start_i:end_i, [0, 2]]\n",
        "    print(dic[signal])\n",
        "\n",
        "  df_lst = dic.values()\n",
        "  # print(df_lst)\n",
        "  merged = pd.concat([x.set_index('time') for x in df_lst],axis = 1,keys=range(len(df_lst)))\n",
        "  merged.columns = merged.columns.map('{0[1]}'.format)\n",
        "  merged = merged.reset_index()\n",
        "  print(merged)\n",
        "  \n",
        "  merged.to_parquet(\"/content/drive/MyDrive/epi_data_folders/MSEL_{}/merged.parquet\".format(patient_num))"
      ],
      "metadata": {
        "id": "Es0A6vUOw24w"
      },
      "execution_count": null,
      "outputs": []
    },
    {
      "cell_type": "code",
      "source": [
        "# the above function crashes RAM for patient 00197, 01575. The following version tries to reduce RAM usage\n",
        "# but it still crashes for patient 01849; need to do it with my own computer\n",
        "def merge_signals2(patient_num):\n",
        "  df_time = pd.read_csv(\"/content/drive/MyDrive/epi_data_folders/start_end.csv\")\n",
        "  df_patient_time = df_time.loc[df_time['patient_num'] == int(patient_num)]\n",
        "  start_time = list(df_patient_time[\"start\"])[0]\n",
        "  # print(start_time)\n",
        "  end_time = list(df_patient_time[\"end\"])[0]\n",
        "  # print(end_time)\n",
        "\n",
        "  df = pd.read_parquet(\"/content/drive/MyDrive/epi_data_folders/MSEL_{}/normalized_data/{}_{}.parquet\".format(patient_num, patient_num, \"BVP\"))\n",
        "  start_i = df.index[df['time'] == start_time].tolist()[0]\n",
        "  end_i = df.index[df['time'] == end_time].tolist()[0]\n",
        "  merged = df.iloc[start_i:end_i, [0, 2]]\n",
        "\n",
        "  for signal in [\"EDA\", \"HR\", \"TEMP\", \"Mag\", \"x\", \"y\", \"z\"]:\n",
        "    df = pd.read_parquet(\"/content/drive/MyDrive/epi_data_folders/MSEL_{}/normalized_data/{}_{}.parquet\".format(patient_num, patient_num, signal))\n",
        "    start_i = df.index[df['time'] == start_time].tolist()[0]\n",
        "    end_i = df.index[df['time'] == end_time].tolist()[0]\n",
        "    df = df.iloc[start_i:end_i, [0, 2]]\n",
        "    print(df)\n",
        "    merged = pd.merge(merged, df, on=\"time\")\n",
        "    print(merged)\n",
        "\n",
        "  merged.to_parquet(\"/content/drive/MyDrive/epi_data_folders/MSEL_{}/merged.parquet\".format(patient_num))"
      ],
      "metadata": {
        "id": "TjgeglgYLRMl"
      },
      "execution_count": null,
      "outputs": []
    },
    {
      "cell_type": "markdown",
      "metadata": {
        "id": "0n30tbBNgQKk"
      },
      "source": [
        "### concatenation -> normalization -> splitting"
      ]
    },
    {
      "cell_type": "code",
      "source": [
        "# this function splits the normalized file into one-minute segments based on the label file\n",
        "# this seems so complicated because the original data is not tidy enough\n",
        "\n",
        "def split_signal(patient_num, signal):\n",
        "  df_split = pd.read_csv(\"/content/drive/MyDrive/epi_data_folders/MSEL_{}/MSEL_{}_labels_split.csv\".format(patient_num, patient_num))\n",
        "  df_concat = pd.read_parquet(\"/content/drive/MyDrive/epi_data_folders/MSEL_{}/normalized_data/{}_{}.parquet\".format(patient_num, patient_num, signal))\n",
        "\n",
        "  folder = \"/content/drive/MyDrive/epi_data_folders/MSEL_{}/segments/{}\".format(patient_num, signal)\n",
        "  if \"{}\".format(signal) in os.listdir(\"/content/drive/MyDrive/epi_data_folders/MSEL_{}/segments\".format(patient_num)):\n",
        "    shutil.rmtree(folder)\n",
        "  os.mkdir(folder)\n",
        "\n",
        "  cur_seg = 0\n",
        "\n",
        "  for i in range(df_split.shape[0]):\n",
        "    print(\"**********segment*********\", i)\n",
        "    print(cur_seg)\n",
        "    # this is a safer way for messy data\n",
        "    # cur_seg += round((df_split.iloc[i][\"label_start_time\"] - df_concat.iloc[cur_seg][\"time\"]) / 7.8125)\n",
        "    cur_seg = df_concat.index[df_concat['time'] == df_split.iloc[i][\"label_start_time\"]].tolist()[0]\n",
        "    print(cur_seg)\n",
        "    while cur_seg < df_concat.shape[0]:\n",
        "      if df_concat.iloc[cur_seg][\"time\"] - 7.8125 < df_split.iloc[i][\"label_start_time\"] <= df_concat.iloc[cur_seg][\"time\"]:\n",
        "        start_index = cur_seg\n",
        "        cur_seg += 6\n",
        "        while cur_seg < df_concat.shape[0]:\n",
        "          if df_concat.iloc[cur_seg][\"time\"] >= df_split.iloc[i][\"label_start_time\"] + 60 * 1000:\n",
        "            end_index = cur_seg - 1\n",
        "            break\n",
        "          cur_seg += 1\n",
        "        print(\"start:\", df_concat.iloc[start_index][\"time\"])\n",
        "        print(\"end:\", df_concat.iloc[end_index][\"time\"])\n",
        "        # save as .npy file\n",
        "        # np.save(\"/content/drive/MyDrive/epi_data_folders/MSEL_{}/segments/{}/segment{}\".format(patient_num, signal, i), new_seg)\n",
        "        # save as parquet file\n",
        "        df_concat.iloc[start_index:end_index].to_parquet(\"/content/drive/MyDrive/epi_data_folders/MSEL_{}/segments/{}/segment{}.parquet\".format(patient_num, signal, i))\n",
        "        break\n",
        "      cur_seg += 1\n",
        "      print(cur_seg)\n"
      ],
      "metadata": {
        "id": "_EeBSc6kuOyq"
      },
      "execution_count": null,
      "outputs": []
    },
    {
      "cell_type": "code",
      "execution_count": null,
      "metadata": {
        "id": "X0Y55Gv3dUZf"
      },
      "outputs": [],
      "source": [
        "# this is a new version for merged files\n",
        "# patient 01676 doesn't have proper segments\n",
        "def split_merged(patient_num):\n",
        "  df_split = pd.read_csv(\"/content/drive/MyDrive/epi_data_folders/MSEL_{}/MSEL_{}_labels_split.csv\".format(patient_num, patient_num))\n",
        "  df_concat = pd.read_parquet(\"/content/drive/MyDrive/epi_data_folders/MSEL_{}/merged.parquet\".format(patient_num))\n",
        "\n",
        "  folder = \"/content/drive/MyDrive/epi_data_folders/MSEL_{}/segments/merged\".format(patient_num)\n",
        "  if \"merged\" in os.listdir(\"/content/drive/MyDrive/epi_data_folders/MSEL_{}/segments\".format(patient_num)):\n",
        "    shutil.rmtree(folder)\n",
        "  os.mkdir(folder)\n",
        "\n",
        "  cur_seg = 0\n",
        "  not_null = []\n",
        "\n",
        "  for i in range(df_split.shape[0]):\n",
        "    print(\"**********segment*********\", i)\n",
        "    print(cur_seg)\n",
        "    # this is a safer way for messy data\n",
        "    # cur_seg += round((df_split.iloc[i][\"label_start_time\"] - df_concat.iloc[cur_seg][\"time\"]) / 7.8125)\n",
        "    cur_seg = df_concat.index[df_concat['time'] == df_split.iloc[i][\"label_start_time\"]].tolist()[0]\n",
        "    print(cur_seg)\n",
        "\n",
        "    while cur_seg < df_concat.shape[0]:\n",
        "      if df_concat.iloc[cur_seg][\"time\"] - 7.8125 < df_split.iloc[i][\"label_start_time\"] <= df_concat.iloc[cur_seg][\"time\"]:\n",
        "        start_index = cur_seg\n",
        "        cur_seg += 6\n",
        "        while cur_seg < df_concat.shape[0]:\n",
        "          if df_concat.iloc[cur_seg][\"time\"] >= df_split.iloc[i][\"label_start_time\"] + 60 * 1000:\n",
        "            end_index = cur_seg - 1\n",
        "            break\n",
        "          cur_seg += 1\n",
        "        print(\"start:\", df_concat.iloc[start_index][\"time\"])\n",
        "        print(\"end:\", df_concat.iloc[end_index][\"time\"])\n",
        "        new_seg = df_concat.iloc[start_index:end_index]\n",
        "        # don't save it as a segment if there is missing value\n",
        "        if not new_seg.isnull().values.any():\n",
        "          not_null.append(i)\n",
        "        # save as .npy file\n",
        "        # np.save(\"/content/drive/MyDrive/epi_data_folders/MSEL_{}/segments/{}/segment{}\".format(patient_num, signal, i), new_seg)\n",
        "        # save as parquet file\n",
        "          new_seg.to_parquet(\"/content/drive/MyDrive/epi_data_folders/MSEL_{}/segments/merged/segment{}.parquet\".format(patient_num, i))\n",
        "        break\n",
        "      cur_seg += 1\n",
        "      print(cur_seg)\n",
        "  print(not_null[-1])\n",
        "  print(len(not_null))\n",
        "  not_null_target = df_split.iloc[not_null]\n",
        "  not_null_target.to_csv(\"/content/drive/MyDrive/epi_data_folders/MSEL_{}/MSEL_{}_labels_split_not_null.csv\".format(patient_num, patient_num))"
      ]
    },
    {
      "cell_type": "code",
      "execution_count": null,
      "metadata": {
        "id": "oCX1TVzNJ7_y"
      },
      "outputs": [],
      "source": [
        "def split(patient_num):\n",
        "  \n",
        "  path = \"/content/drive/MyDrive/epi_data_folders/MSEL_{}/segments\".format(patient_num)\n",
        "  if \"segments\" in os.listdir(\"/content/drive/MyDrive/epi_data_folders/MSEL_{}\".format(patient_num)):\n",
        "    shutil.rmtree(path)\n",
        "  os.mkdir(path)\n",
        "\n",
        "  for signal in [\"BVP\", \"EDA\", \"HR\", \"Mag\", \"TEMP\", \"x\", \"y\", \"z\"]:\n",
        "    split_signal(patient_num, signal)"
      ]
    },
    {
      "cell_type": "code",
      "execution_count": null,
      "metadata": {
        "id": "0DrUYvLJWYEM"
      },
      "outputs": [],
      "source": [
        "# Several patient would take 7 hours. Use multiprocessing to speed up.\n",
        "a_pool = multiprocessing.Pool()\n",
        "result = a_pool.map(split, patient_nums)\n",
        "print(result)"
      ]
    },
    {
      "cell_type": "code",
      "execution_count": null,
      "metadata": {
        "id": "l9xX2Vpneyfr"
      },
      "outputs": [],
      "source": [
        "# we tried to interpolate null values at first\n",
        "df.interpolate('spline', order=3, inplace = True)"
      ]
    },
    {
      "cell_type": "code",
      "execution_count": 9,
      "metadata": {
        "colab": {
          "base_uri": "https://localhost:8080/",
          "height": 904
        },
        "id": "NnIZHLN6M8NM",
        "outputId": "612e209d-b14b-414d-d37c-386d3530c9dd"
      },
      "outputs": [
        {
          "output_type": "execute_result",
          "data": {
            "text/plain": [
              "<matplotlib.lines.Line2D at 0x7f9d13820bd0>"
            ]
          },
          "metadata": {},
          "execution_count": 9
        },
        {
          "output_type": "display_data",
          "data": {
            "text/plain": [
              "<Figure size 1440x1080 with 1 Axes>"
            ],
            "image/png": "[encoded data removed]"
          },
          "metadata": {
            "needs_background": "light"
          }
        }
      ],
      "source": [
        "# This is a visualization for preictal ictal and post-ictal period of seizure\n",
        "df = pd.read_parquet(\"/content/drive/MyDrive/epi_data_folders/MSEL_00182/concat_data/00182_BVP.parquet\")\n",
        "df1 = df.iloc[(25974272 - 30000): (25974272 + 40000)]\n",
        "plt.figure(figsize=(20, 15))\n",
        "plt.plot(df1[\"time\"], df1[\"BVP\"],color='grey')\n",
        "plt.axvline(x = 1564284577000, color = 'r')\n",
        "plt.axvline(x = 1564284577000 + 78800, color = 'r')\n",
        "\n",
        "from google.colab import files\n",
        "plt.savefig(\"abc.png\")\n",
        "files.download(\"abc.png\") "
      ]
    }
  ],
  "metadata": {
    "colab": {
      "collapsed_sections": [],
      "name": "Concatentation_Splitting.ipynb",
      "provenance": []
    },
    "kernelspec": {
      "display_name": "Python 3",
      "name": "python3"
    },
    "language_info": {
      "name": "python"
    }
  },
  "nbformat": 4,
  "nbformat_minor": 0
}