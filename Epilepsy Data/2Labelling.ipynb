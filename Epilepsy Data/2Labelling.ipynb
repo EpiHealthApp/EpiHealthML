{
  "cells": [
    {
      "cell_type": "code",
      "execution_count": null,
      "metadata": {
        "colab": {
          "base_uri": "https://localhost:8080/"
        },
        "id": "RlTGobNn7SL5",
        "outputId": "c45d98f7-bf5c-49c8-bcd1-fb42e9d28b5b"
      },
      "outputs": [
        {
          "output_type": "stream",
          "name": "stdout",
          "text": [
            "Mounted at /content/drive\n"
          ]
        }
      ],
      "source": [
        "# add drive\n",
        "from google.colab import drive\n",
        "drive.mount('/content/drive', force_remount=True)"
      ]
    },
    {
      "cell_type": "code",
      "execution_count": null,
      "metadata": {
        "id": "Nx89IbVrrspX"
      },
      "outputs": [],
      "source": [
        "# add imports\n",
        "import os\n",
        "import zipfile\n",
        "import csv\n",
        "import copy\n",
        "import pandas as pd\n",
        "import numpy as np"
      ]
    },
    {
      "cell_type": "code",
      "execution_count": null,
      "metadata": {
        "colab": {
          "base_uri": "https://localhost:8080/"
        },
        "id": "vtEQXieA-x17",
        "outputId": "ae0d7642-bb3a-4ce7-fd9a-d2acf2b89232"
      },
      "outputs": [
        {
          "output_type": "stream",
          "name": "stdout",
          "text": [
            "['MSEL_01575', 'MSEL_01828', 'MSEL_01709', 'MSEL_01870', 'MSEL_01842', 'MSEL_01844', 'MSEL_01097', 'MSEL_00182', 'MSEL_01676', 'MSEL_01849', 'MSEL_01808', 'MSEL_00501', 'MSEL_00172', 'MSEL_01763', 'MSEL_00502', 'MSEL_00095', 'MSEL_01110-ICU']\n"
          ]
        }
      ],
      "source": [
        "# get list of data folders\n",
        "content_path = \"/content/drive/My Drive/epi_data_folders/\"\n",
        "list_of_data_dir = [study for study in os.listdir(content_path) if \"MSEL\" in study]\n",
        "print(list_of_data_dir)"
      ]
    },
    {
      "cell_type": "code",
      "execution_count": null,
      "metadata": {
        "colab": {
          "base_uri": "https://localhost:8080/"
        },
        "id": "fKcd8wj7_oiD",
        "outputId": "ece5a411-0d9a-47ca-8be3-c92a1d78f691"
      },
      "outputs": [
        {
          "output_type": "stream",
          "name": "stdout",
          "text": [
            "MSEL_01575\n",
            "no space for interictal data\n",
            "MSEL_01828\n",
            "no space for interictal data\n",
            "MSEL_01709\n",
            "no space for interictal data\n",
            "MSEL_01870\n",
            "no space for interictal data\n",
            "MSEL_01842\n",
            "no space for interictal data\n",
            "MSEL_01844\n",
            "no space for interictal data\n",
            "MSEL_01097\n",
            "no space for interictal data\n",
            "MSEL_00182\n",
            "no space for interictal data\n",
            "MSEL_01676\n",
            "no space for interictal data\n",
            "MSEL_01849\n",
            "no space for interictal data\n",
            "MSEL_01808\n",
            "no space for interictal data\n",
            "MSEL_00501\n",
            "no space for interictal data\n",
            "MSEL_00172\n",
            "no space for interictal data\n",
            "MSEL_01763\n",
            "no space for interictal data\n",
            "MSEL_00502\n",
            "no space for interictal data\n",
            "MSEL_00095\n",
            "no space for interictal data\n",
            "MSEL_01110-ICU\n",
            "no space for interictal data\n"
          ]
        }
      ],
      "source": [
        "# process labels for concat data\n",
        "# labels: 0 - preictal, 1 - seizure, 2 - interictal\n",
        "for data_dir in list_of_data_dir:\n",
        "  # display dataframe\n",
        "  print(data_dir)\n",
        "\n",
        "  # clean up original labels\n",
        "  events = pd.read_csv(content_path + data_dir + \"/\" + data_dir + \"_labels.csv\", delimiter=',')\n",
        "  new_events = events[['name', 'startTime', 'duration', 'labels.startTime', 'labels.duration', 'labels.note']].copy()\n",
        "  new_events.columns = ['name', 'study_start_time', 'study_duration', 'label_start_time', 'label_duration', 'label_note']\n",
        "  new_events.insert(0, 'label', 1)\n",
        "  new_events = new_events.drop_duplicates(ignore_index=True)\n",
        "  new_events = new_events.sort_values(by=['label_start_time'], ignore_index=True)\n",
        "\n",
        "  # create a copy of original labels to iterate over\n",
        "  events_seizure = new_events.copy()\n",
        "\n",
        "  # iterate over original only seizure labels to label pre- and interictal data\n",
        "  for i, row in events_seizure.iterrows():\n",
        "      preictal = copy.deepcopy(row)\n",
        "      interictal = copy.deepcopy(row)\n",
        "      # add preictal information\n",
        "      preictal['label'] = 0\n",
        "      preictal['label_note'] = 'Preictal - ' + preictal['label_note']\n",
        "      \n",
        "      # add interictal information\n",
        "      interictal['label'] = 2\n",
        "      interictal['label_note'] = 'Interictal - ' + interictal['label_note']\n",
        "\n",
        "      possible_start_time_inter = int(row['label_start_time']) + int(row['label_duration']) + (120 * 60 * 1000)\n",
        "      possible_start_time_pre = int(preictal['label_start_time']) - (75 * 60 * 1000)\n",
        "\n",
        "      \n",
        "      # check whether preictal overlaps with previous seizure, if yes - do not label\n",
        "      if i > 0:\n",
        "        try:\n",
        "          if (int(events_seizure.iloc[i-1]['label_start_time'])) < possible_start_time_pre:\n",
        "              preictal['label_start_time'] = possible_start_time_pre\n",
        "              preictal['label_duration'] = 60 * 60 * 1000\n",
        "              new_events = new_events.append(preictal, ignore_index=True)\n",
        "        except IndexError as e:\n",
        "              print('no space for preictal data')\n",
        "\n",
        "      # check whether inerictal overlaps with next seizure's preictal, if yes - do not label\n",
        "      try:\n",
        "        if possible_start_time_inter < (int(events_seizure.iloc[i+1]['label_start_time']) - (75 * 60 * 1000)):\n",
        "            interictal['label_start_time'] = possible_start_time_inter\n",
        "            interictal['label_duration'] = (int(events_seizure.iloc[i+1]['label_start_time']) - (75 * 60 * 1000)) - possible_start_time_inter\n",
        "            new_events = new_events.append(interictal, ignore_index=True)\n",
        "      except IndexError as e:\n",
        "            print('no space for interictal data')\n",
        "\n",
        "  # add new concat labels to csv\n",
        "  new_events.to_csv(content_path + data_dir + \"/\" + data_dir + \"_labels_new.csv\", index=False)\n",
        "\n"
      ]
    },
    {
      "cell_type": "code",
      "execution_count": null,
      "metadata": {
        "colab": {
          "base_uri": "https://localhost:8080/"
        },
        "id": "S5duWTL7_41Z",
        "outputId": "56279607-69ff-43e4-a11c-6a6d296af129"
      },
      "outputs": [
        {
          "output_type": "stream",
          "name": "stdout",
          "text": [
            "MSEL_01575\n",
            "/content/drive/My Drive/epi_data_folders/MSEL_01575/MSEL_01575_labels_new.csv\n",
            "label start 1571510363000\n",
            "study start 1571251745000\n",
            "MSEL_01828\n",
            "/content/drive/My Drive/epi_data_folders/MSEL_01828/MSEL_01828_labels_new.csv\n",
            "label start 1548113352000\n",
            "study start 1548093402000\n",
            "MSEL_01709\n",
            "/content/drive/My Drive/epi_data_folders/MSEL_01709/MSEL_01709_labels_new.csv\n",
            "label start 1544279270000\n",
            "study start 1544222237000\n",
            "MSEL_01870\n",
            "/content/drive/My Drive/epi_data_folders/MSEL_01870/MSEL_01870_labels_new.csv\n",
            "label start 1573313368000\n",
            "study start 1573167317000\n",
            "MSEL_01842\n",
            "/content/drive/My Drive/epi_data_folders/MSEL_01842/MSEL_01842_labels_new.csv\n",
            "label start 1558054199000\n",
            "study start 1558037650000\n",
            "MSEL_01844\n",
            "/content/drive/My Drive/epi_data_folders/MSEL_01844/MSEL_01844_labels_new.csv\n",
            "label start 1558752344000\n",
            "study start 1558559048000\n",
            "MSEL_01097\n",
            "/content/drive/My Drive/epi_data_folders/MSEL_01097/MSEL_01097_labels_new.csv\n",
            "label start 1552438175000\n",
            "study start 1552336421000\n",
            "MSEL_00182\n",
            "/content/drive/My Drive/epi_data_folders/MSEL_00182/MSEL_00182_labels_new.csv\n",
            "label start 1564206307000\n",
            "study start 1564081666750\n",
            "MSEL_01676\n",
            "/content/drive/My Drive/epi_data_folders/MSEL_01676/MSEL_01676_labels_new.csv\n",
            "label start 1552047782000\n",
            "study start 1551478692000\n",
            "MSEL_01849\n",
            "/content/drive/My Drive/epi_data_folders/MSEL_01849/MSEL_01849_labels_new.csv\n",
            "label start 1560880517000\n",
            "study start 1560438121000\n",
            "MSEL_01808\n",
            "/content/drive/My Drive/epi_data_folders/MSEL_01808/MSEL_01808_labels_new.csv\n",
            "label start 1557571959000\n",
            "study start 1557348756000\n",
            "MSEL_00501\n",
            "/content/drive/My Drive/epi_data_folders/MSEL_00501/MSEL_00501_labels_new.csv\n",
            "label start 1556834135000\n",
            "study start 1556830144000\n",
            "MSEL_00172\n",
            "/content/drive/My Drive/epi_data_folders/MSEL_00172/MSEL_00172_labels_new.csv\n",
            "label start 1556320872000\n",
            "study start 1556307778000\n",
            "MSEL_01763\n",
            "/content/drive/My Drive/epi_data_folders/MSEL_01763/MSEL_01763_labels_new.csv\n",
            "label start 1551360004000\n",
            "study start 1551305302000\n",
            "MSEL_00502\n",
            "/content/drive/My Drive/epi_data_folders/MSEL_00502/MSEL_00502_labels_new.csv\n",
            "label start 1551516063000\n",
            "study start 1551533038000\n",
            "MSEL_00095\n",
            "/content/drive/My Drive/epi_data_folders/MSEL_00095/MSEL_00095_labels_new.csv\n",
            "label start 1543869780000\n",
            "study start 0\n",
            "MSEL_01110-ICU\n",
            "/content/drive/My Drive/epi_data_folders/MSEL_01110-ICU/MSEL_01110-ICU_labels_new.csv\n",
            "label start 1560008848000\n",
            "study start 0\n"
          ]
        }
      ],
      "source": [
        "# cut the labels at end times when data is missing\n",
        "start_times = {\n",
        "             'MSEL_01575': 1571251745000, \n",
        "             'MSEL_01828': 1548093402000,\n",
        "             'MSEL_01709': 1544222237000,\n",
        "             'MSEL_01870': 1573167317000,\n",
        "             'MSEL_01842': 1558037650000,\n",
        "             'MSEL_01844': 1558559048000,\n",
        "             'MSEL_01097': 1552336421000,\n",
        "             'MSEL_00182': 1564081666750,\n",
        "             'MSEL_01676': 1551478692000,\n",
        "             'MSEL_01849': 1560438121000,\n",
        "             'MSEL_01808': 1557348756000,\n",
        "             'MSEL_00501': 1556830144000,\n",
        "             'MSEL_00172': 1556307778000,\n",
        "             'MSEL_01763': 1551305302000,\n",
        "             'MSEL_00502': 1551533038000, \n",
        "             'MSEL_00095': 0, \n",
        "             'MSEL_01110-ICU': 0\n",
        "}\n",
        "\n",
        "end_times = {\n",
        "             'MSEL_01575': 1571695329867, \n",
        "             'MSEL_01828': 1548170466266,\n",
        "             'MSEL_01709': 1544633089164,\n",
        "             'MSEL_01870': 1573598375992,\n",
        "             'MSEL_01842': 1558340907844,\n",
        "             'MSEL_01844': 1558882951781,\n",
        "             'MSEL_01097': 1552757758242,\n",
        "             'MSEL_00182': 1564388537797,\n",
        "             'MSEL_01676': 1551741522492,\n",
        "             'MSEL_01849': 1560955967781,\n",
        "             'MSEL_01808': 1557678582953,\n",
        "             'MSEL_00501': 1557111309516,\n",
        "             'MSEL_00172': 1556559594875,\n",
        "             'MSEL_01763': 1551385416992,\n",
        "             'MSEL_00502': 1551706309906, \n",
        "             'MSEL_00095': 1543949562000, \n",
        "             'MSEL_01110-ICU': 1560153901000\n",
        "}\n",
        "\n",
        "# process labels for segmented data\n",
        "for data_dir in list_of_data_dir:\n",
        "    print(data_dir)\n",
        "    events = pd.read_csv(content_path + data_dir + \"/\" + data_dir + \"_labels_new.csv\", delimiter=',')\n",
        "    print(content_path + data_dir + \"/\" + data_dir + \"_labels_new.csv\")\n",
        "    events = events.sort_values(by=['label_start_time'], ignore_index=True)\n",
        "\n",
        "    segmented_events = pd.DataFrame(columns=['label', 'name', 'study_start_time', 'study_duration', 'label_start_time', 'label_duration', 'label_note'])\n",
        "\n",
        "    # get study data\n",
        "    study_name = events.iloc[0]['name']\n",
        "    study_start = int(events.iloc[0]['study_start_time'])\n",
        "    study_duration = events.iloc[0]['study_duration']\n",
        "\n",
        "    # get segment start data\n",
        "    segment_start_time = start_times[data_dir]\n",
        "\n",
        "    # get label data\n",
        "    print('label start', int(events.iloc[0]['label_start_time']))\n",
        "    print('study start', start_times[data_dir])\n",
        "\n",
        "    # check whether label data starts after earliest start time\n",
        "    main_label_start = start_times[data_dir]\n",
        "    if int(events.iloc[0]['label_start_time']) > main_label_start:\n",
        "      main_label_start = int(events.iloc[0]['label_start_time'])\n",
        "      segment_start_time = int(events.iloc[0]['label_start_time'])\n",
        "       \n",
        "    last_label_end = int(events.iloc[-1]['label_start_time']) + int(events.iloc[-1]['label_duration'])\n",
        "\n",
        "    while main_label_start <= segment_start_time <= last_label_end:\n",
        "          # initialize list of lists\n",
        "          for i, row in events.iterrows():\n",
        "            if int(row['label_start_time']) <= int(segment_start_time) <= (int(row['label_start_time']) + int(row['label_duration'])) and int(segment_start_time) <= end_times[data_dir]:\n",
        "              label = row['label']\n",
        "              label_note = row['label_note']\n",
        "                  \n",
        "              if (int(segment_start_time) + 60000 <= end_times[data_dir]):\n",
        "                label_duration = 60000\n",
        "              else:\n",
        "                label_duration = int(end_times[data_dir]) - int(segment_start_time)\n",
        "\n",
        "              data = pd.DataFrame({'label':label, 'name': study_name, 'study_start_time':study_start, 'study_duration':study_duration, 'label_start_time': segment_start_time, 'label_duration': label_duration, 'label_note': label_note}, index=[0])\n",
        "              segmented_events = segmented_events.append(data)\n",
        "              break\n",
        "                \n",
        "          segment_start_time += 60 * 1000\n",
        "\n",
        "    segmented_events.to_csv(content_path + data_dir + \"/\" + data_dir + \"_labels_split.csv\", index=False)\n",
        "\n"
      ]
    }
  ],
  "metadata": {
    "colab": {
      "collapsed_sections": [],
      "name": "Labelling.ipynb",
      "provenance": []
    },
    "kernelspec": {
      "display_name": "Python 3",
      "name": "python3"
    },
    "language_info": {
      "name": "python"
    }
  },
  "nbformat": 4,
  "nbformat_minor": 0
}
