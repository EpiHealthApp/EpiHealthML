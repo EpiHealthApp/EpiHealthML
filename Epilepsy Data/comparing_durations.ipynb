{
  "nbformat": 4,
  "nbformat_minor": 0,
  "metadata": {
    "colab": {
      "name": "comparing_durations.ipynb",
      "provenance": []
    },
    "kernelspec": {
      "name": "python3",
      "display_name": "Python 3"
    },
    "language_info": {
      "name": "python"
    },
    "accelerator": "GPU"
  },
  "cells": [
    {
      "cell_type": "code",
      "execution_count": null,
      "metadata": {
        "id": "e6paB1Xhzv0F"
      },
      "outputs": [],
      "source": [
        "import pandas as pd\n",
        "import numpy as np\n",
        "import matplotlib.pyplot as plt\n",
        "import os\n",
        "import seaborn as sns"
      ]
    },
    {
      "cell_type": "code",
      "source": [
        "from google.colab import drive\n",
        "drive.mount('/content/drive')"
      ],
      "metadata": {
        "colab": {
          "base_uri": "https://localhost:8080/"
        },
        "id": "HornYdCdzwtz",
        "outputId": "b66a7216-8dbb-4936-b0f0-22f965e1d419"
      },
      "execution_count": null,
      "outputs": [
        {
          "output_type": "stream",
          "name": "stdout",
          "text": [
            "Drive already mounted at /content/drive; to attempt to forcibly remount, call drive.mount(\"/content/drive\", force_remount=True).\n"
          ]
        }
      ]
    },
    {
      "cell_type": "code",
      "source": [
        "path = '/content/drive/My Drive/epi_data_folders'\n",
        "os.chdir(path)\n",
        "!ls"
      ],
      "metadata": {
        "colab": {
          "base_uri": "https://localhost:8080/"
        },
        "id": "nd9TdCz8zx2g",
        "outputId": "937f7b96-b92e-4e7d-ac67-789ae419e137"
      },
      "execution_count": null,
      "outputs": [
        {
          "output_type": "stream",
          "name": "stdout",
          "text": [
            "MSEL_00095  MSEL_00501\tMSEL_01110-ICU\tMSEL_01709  MSEL_01828\tMSEL_01849\n",
            "MSEL_00172  MSEL_00502\tMSEL_01575\tMSEL_01763  MSEL_01842\tMSEL_01870\n",
            "MSEL_00182  MSEL_01097\tMSEL_01676\tMSEL_01808  MSEL_01844\n"
          ]
        }
      ]
    },
    {
      "cell_type": "code",
      "source": [
        "def check(patient_num, feature):\n",
        "  cd = \"/content/drive/MyDrive/epi_data_folders/MSEL_{}/concat_data/{}_{}.parquet\".format(patient_num, patient_num, feature)\n",
        "  meta_cd = '/content/drive/MyDrive/epi_data_folders/MSEL_{}/MSEL_{}_Empatica-{}_{}_metadata.csv'.format(patient_num, patient_num, feature, feature)\n",
        "  labels = '/content/drive/MyDrive/epi_data_folders/MSEL_{}/MSEL_{}_labels_new.csv'.format(patient_num, patient_num)\n",
        "  meta_df = pd.read_csv(meta_cd)\n",
        "  df = pd.read_parquet(cd)\n",
        "  labels_df = pd.read_csv(labels)\n",
        "  duration = df[\"time\"][df.shape[0] - 1]\n",
        "  meta_duration = meta_df[\"segments.duration\"][meta_df.shape[0] - 1] + meta_df[\"segments.startTime\"][meta_df.shape[0] - 1]\n",
        "  seg_df = pd.read_parquet(\"/content/drive/MyDrive/epi_data_folders/MSEL_{}/concat_data/{}_{}.parquet\".format(patient_num, patient_num, feature, feature))\n",
        "  segment_dur = df[\"time\"][df.shape[0] - 1] - df[\"time\"][df.shape[0] - 2]\n",
        "  labels_dur = labels_df['label_duration'][labels_df.shape[0] - 1] + labels_df['label_start_time'][labels_df.shape[0] - 1]\n",
        "  return meta_duration, duration, segment_dur, labels_dur\n",
        "  "
      ],
      "metadata": {
        "id": "USAfwQDcz2h3"
      },
      "execution_count": null,
      "outputs": []
    },
    {
      "cell_type": "code",
      "source": [
        "check('01828', 'BVP')"
      ],
      "metadata": {
        "colab": {
          "base_uri": "https://localhost:8080/"
        },
        "id": "8bgZAfyL1Smp",
        "outputId": "8b8d07a4-3529-4044-e5bf-b3592e9d74ec"
      },
      "execution_count": null,
      "outputs": [
        {
          "output_type": "execute_result",
          "data": {
            "text/plain": [
              "(1548170470125.0, 1548170470117.1875, 7.8125, 1548112452000)"
            ]
          },
          "metadata": {},
          "execution_count": 6
        }
      ]
    },
    {
      "cell_type": "code",
      "source": [
        ""
      ],
      "metadata": {
        "id": "7NdfIpYZ2rsu"
      },
      "execution_count": null,
      "outputs": []
    },
    {
      "cell_type": "code",
      "source": [
        "1564292668000\t+3600000"
      ],
      "metadata": {
        "colab": {
          "base_uri": "https://localhost:8080/"
        },
        "id": "86t5uwbq-xGW",
        "outputId": "142e6a9f-68d9-4606-f304-8879faa8cf74"
      },
      "execution_count": null,
      "outputs": [
        {
          "output_type": "execute_result",
          "data": {
            "text/plain": [
              "1564296268000"
            ]
          },
          "metadata": {},
          "execution_count": 74
        }
      ]
    },
    {
      "cell_type": "code",
      "source": [
        "# feature = \"BVP\"\n",
        "concat = pd.read_parquet(\"/content/drive/MyDrive/epi_data_folders/MSEL_{}/concat_data/{}_{}.parquet\".format('00182','00182','BVP'))\n",
        "x = list(concat['time'])\n",
        "y = list(concat['BVP'])\n",
        "plt.plot(x,y)"
      ],
      "metadata": {
        "colab": {
          "base_uri": "https://localhost:8080/",
          "height": 307
        },
        "id": "nE8ybgnxKu-_",
        "outputId": "c51e254b-94c9-4d8c-c8b1-70f422c358c7"
      },
      "execution_count": null,
      "outputs": [
        {
          "output_type": "execute_result",
          "data": {
            "text/plain": [
              "[<matplotlib.lines.Line2D at 0x7f2e451951d0>]"
            ]
          },
          "metadata": {},
          "execution_count": 5
        },
        {
          "output_type": "display_data",
          "data": {
            "text/plain": [
              "<Figure size 432x288 with 1 Axes>"
            ],
            "image/png": "[encoded data removed]"
          },
          "metadata": {
            "needs_background": "light"
          }
        }
      ]
    },
    {
      "cell_type": "code",
      "source": [
        "def plot_graph(patient_num, feature):\n",
        "  cd = \"/content/drive/MyDrive/epi_data_folders/MSEL_{}/concat_data/{}_{}.parquet\".format(patient_num, patient_num, feature)\n",
        "  concat = pd.read_parquet(cd)\n",
        "  x = concat['time'].values.tolist()\n",
        "  y = concat.feature.values.tolist())\n",
        "  return plt.plot(x,y)\n",
        "plot_graph('00182','BVP')"
      ],
      "metadata": {
        "colab": {
          "base_uri": "https://localhost:8080/",
          "height": 136
        },
        "id": "tZIBZh-FBbfH",
        "outputId": "75d76615-cec1-4eff-b99e-6cbdaa9b5d27"
      },
      "execution_count": null,
      "outputs": [
        {
          "output_type": "error",
          "ename": "SyntaxError",
          "evalue": "ignored",
          "traceback": [
            "\u001b[0;36m  File \u001b[0;32m\"<ipython-input-21-23df606bdfd2>\"\u001b[0;36m, line \u001b[0;32m5\u001b[0m\n\u001b[0;31m    y = concat.feature.values.tolist())\u001b[0m\n\u001b[0m                                      ^\u001b[0m\n\u001b[0;31mSyntaxError\u001b[0m\u001b[0;31m:\u001b[0m invalid syntax\n"
          ]
        }
      ]
    },
    {
      "cell_type": "code",
      "source": [
        "plot('00182','BVP')"
      ],
      "metadata": {
        "id": "qFDxi1bJFotQ"
      },
      "execution_count": null,
      "outputs": []
    },
    {
      "cell_type": "code",
      "source": [
        ""
      ],
      "metadata": {
        "id": "Aiy2tdccF3y_"
      },
      "execution_count": null,
      "outputs": []
    }
  ]
}