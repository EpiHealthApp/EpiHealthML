{
  "nbformat": 4,
  "nbformat_minor": 0,
  "metadata": {
    "colab": {
      "name": "DataLoader.ipynb",
      "provenance": [],
      "machine_shape": "hm"
    },
    "kernelspec": {
      "name": "python3",
      "display_name": "Python 3"
    },
    "language_info": {
      "name": "python"
    },
    "accelerator": "GPU"
  },
  "cells": [
    {
      "cell_type": "code",
      "execution_count": null,
      "metadata": {
        "id": "rqxzPfAiRgDV"
      },
      "outputs": [],
      "source": [
        "import numpy as np\n",
        "import matplotlib.pyplot as plt\n",
        "import pandas as pd\n",
        "import torch\n",
        "import torch.nn as nn\n",
        "from torch.autograd import Variable\n",
        "from sklearn.preprocessing import MinMaxScaler\n",
        "import os, os.path"
      ]
    },
    {
      "cell_type": "code",
      "source": [
        "if torch.cuda.is_available():\n",
        "  device = torch.device(\"cuda\")\n",
        "else:\n",
        "  device = torch.device(\"cpu\")"
      ],
      "metadata": {
        "id": "QgpvdHMaH6QS"
      },
      "execution_count": null,
      "outputs": []
    },
    {
      "cell_type": "code",
      "source": [
        "device"
      ],
      "metadata": {
        "colab": {
          "base_uri": "https://localhost:8080/"
        },
        "id": "7YGdvq11gY3L",
        "outputId": "a2876dfa-7efb-4ab5-bae9-957e26391af0"
      },
      "execution_count": null,
      "outputs": [
        {
          "output_type": "execute_result",
          "data": {
            "text/plain": [
              "device(type='cuda')"
            ]
          },
          "metadata": {},
          "execution_count": 3
        }
      ]
    },
    {
      "cell_type": "markdown",
      "source": [
        ""
      ],
      "metadata": {
        "id": "ZNdG4ZT3EGR0"
      }
    },
    {
      "cell_type": "code",
      "source": [
        "from google.colab import drive\n",
        "drive.mount('/content/drive')"
      ],
      "metadata": {
        "colab": {
          "base_uri": "https://localhost:8080/",
          "height": 183
        },
        "id": "dlHS0ILqe3ah",
        "outputId": "34c4e14d-9521-4863-aa0d-c4888ddd1eb4"
      },
      "execution_count": null,
      "outputs": [
        {
          "output_type": "error",
          "ename": "ModuleNotFoundError",
          "evalue": "ignored",
          "traceback": [
            "\u001b[1;31m---------------------------------------------------------------------------\u001b[0m",
            "\u001b[1;31mModuleNotFoundError\u001b[0m                       Traceback (most recent call last)",
            "Input \u001b[1;32mIn [4]\u001b[0m, in \u001b[0;36m<cell line: 1>\u001b[1;34m()\u001b[0m\n\u001b[1;32m----> 1\u001b[0m \u001b[38;5;28;01mfrom\u001b[39;00m \u001b[38;5;21;01mgoogle\u001b[39;00m\u001b[38;5;21;01m.\u001b[39;00m\u001b[38;5;21;01mcolab\u001b[39;00m \u001b[38;5;28;01mimport\u001b[39;00m drive\n\u001b[0;32m      2\u001b[0m drive\u001b[38;5;241m.\u001b[39mmount(\u001b[38;5;124m'\u001b[39m\u001b[38;5;124m/content/drive\u001b[39m\u001b[38;5;124m'\u001b[39m)\n",
            "\u001b[1;31mModuleNotFoundError\u001b[0m: No module named 'google'"
          ]
        }
      ]
    },
    {
      "cell_type": "code",
      "source": [
        "patients = ['01575', '01828', '01709', '01870', '01842', '01844', '01097', '00182', '01676', '01849', '01808', '00501', '00172', '01763', '00502']\n"
      ],
      "metadata": {
        "id": "wiYmNvY8pnCn"
      },
      "execution_count": null,
      "outputs": []
    },
    {
      "cell_type": "code",
      "source": [
        "class Patient():\n",
        "  def __init__(self, id):\n",
        "    self.fields = [\"BVP\", \"EDA\", \"HR\", \"TEMP\",\"Mag\", \"x\", \"y\", \"z\"]\n",
        "    self.id = id\n",
        "    self.length = self.getNumberOfSegments(id)\n",
        "    self.targets = self.getPatientTarget()\n",
        "    self.segments = np.zeros((self.length, 8, 7679))\n",
        "    #self.loadSegments()\n",
        "\n",
        "  def __len__(self):\n",
        "    return self.length\n",
        "\n",
        "  def getNumberOfSegments(self, patient_id):\n",
        "    #get number of segments for a given patient\n",
        "    path = '/content/drive/My Drive/epi_data_folders/MSEL_{}/segments/x/'.format(patient_id)\n",
        "    length = 0\n",
        "    try:\n",
        "      length = len([name for name in os.listdir(path)])\n",
        "    except:\n",
        "      print(\"missing data for patient: {}\".format(patient_id))\n",
        "    return length\n",
        "\n",
        "  def getPatientData(self, field, number):\n",
        "    path = '/content/drive/My Drive/epi_data_folders/MSEL_{}/segments/{}/segment{}.parquet'.format(self.id, field, number)\n",
        "\n",
        "    return pd.read_parquet(path, engine=\"auto\")[field].to_numpy()\n",
        "\n",
        "  def getPatientTarget(self):\n",
        "    path = '/content/drive/My Drive/epi_data_folders/MSEL_{}/MSEL_{}_labels_split.csv'.format(self.id, self.id)\n",
        "\n",
        "    df = pd.read_csv(path)\n",
        "    df = df.drop(columns=[\"name\", \"study_start_time\", \"study_duration\", \"label_start_time\", \"label_duration\", \"label_note\"])\n",
        "\n",
        "    return df[\"label\"].to_numpy()\n",
        "\n",
        "  def loadSegments(self):\n",
        "    print(\"loading data for patient: {}\".format(self.id))\n",
        "    for i in range(self.length):\n",
        "      for j in range(len(self.fields)):\n",
        "        self.segments[i, j, :] = self.getPatientData(self.fields[j], i)\n",
        "\n",
        "  def getTarget(self, i):\n",
        "    return self.targets[i]\n",
        "\n",
        "  def getTargetRange(self, i, j):\n",
        "    return self.targets[i:j]"
      ],
      "metadata": {
        "id": "okgIrbuMjPdT"
      },
      "execution_count": null,
      "outputs": []
    },
    {
      "cell_type": "code",
      "source": [
        "class Patients():\n",
        "  def __init__(self, patient_ids, seq_len=60):\n",
        "    self.patients = {}\n",
        "    self.seq_len = seq_len\n",
        "    \n",
        "    # patients: list of patients\n",
        "    self.patient_ids = self.filterPatients(patient_ids)\n",
        "    self.patient_ids.sort()\n",
        "\n",
        "    for patient_id in self.patient_ids:\n",
        "      self.patients[patient_id] = Patient(patient_id)\n",
        "\n",
        "    self.patient_lengths = [self.patients[patient_id].length - self.seq_len for patient_id in self.patient_ids]\n",
        "\n",
        "    self.patient_indexes = [0]\n",
        "  \n",
        "    for patient_length in self.patient_lengths:\n",
        "      self.patient_indexes.append(patient_length + self.patient_indexes[-1])\n",
        "\n",
        "    self.patient_indexes.pop()\n",
        "    print(\"patient indexes\")\n",
        "    print(self.patient_indexes)\n",
        "\n",
        "    self.length = self.getNumberOfSegmentsForAllPatients(self.patients)\n",
        "    print(self.length)\n",
        "\n",
        "  def __len__(self):\n",
        "    return self.length\n",
        "\n",
        "  def getNumberOfSegmentsForAllPatients(self, patients):\n",
        "    length = 0\n",
        "\n",
        "    for id in patients:\n",
        "      length += self.getPatient(id).length\n",
        "\n",
        "    return length\n",
        "\n",
        "  def getPatient(self, id):\n",
        "    return self.patients[id]\n",
        "\n",
        "  def getNumberOfPatients(self):\n",
        "    return len(self.patients)\n",
        "\n",
        "  def filterPatients(self, patients):\n",
        "    filtered_list = []\n",
        "\n",
        "    for patient_id in patients:\n",
        "      path = '/content/drive/My Drive/epi_data_folders/MSEL_{}/segments/x/segment59.parquet'.format(patient_id)\n",
        "      if os.path.isfile(path):\n",
        "        filtered_list.append(patient_id)\n",
        "\n",
        "    return filtered_list\n",
        "\n",
        "  def getIndex(self, target):\n",
        "    if target == 0:\n",
        "      return 0\n",
        "\n",
        "    start = 0;\n",
        "    end = len(self.patient_indexes) - 1\n",
        "    # Minimum size of the array should be 1\n",
        "    if (end == 0):\n",
        "        return -1\n",
        "    '''\n",
        "    If target lies beyond the max element, than the index of strictly smaller\n",
        "    value than target should be (end - 1)\n",
        "    '''\n",
        "    if (target > self.patient_indexes[end]):\n",
        "        return end\n",
        "   \n",
        "    ans = -1;\n",
        "    while (start <= end):\n",
        "        mid = (start + end) // 2\n",
        "   \n",
        "        # Move to the left side if target is\n",
        "        # smaller\n",
        "        if (self.patient_indexes[mid] >= target):\n",
        "            end = mid - 1\n",
        "   \n",
        "        # Move right side\n",
        "        else:\n",
        "            ans = mid\n",
        "            start = mid + 1\n",
        " \n",
        "    return ans"
      ],
      "metadata": {
        "id": "llj8enMUFppO"
      },
      "execution_count": null,
      "outputs": []
    },
    {
      "cell_type": "code",
      "source": [
        "class TimeseriesDataset(torch.utils.data.Dataset):   \n",
        "  def __init__(self, patients, seq_len=60):\n",
        "    self.patients = Patients(patients)\n",
        "    self.seq_len = seq_len\n",
        "    self.fields = [\"BVP\", \"EDA\", \"HR\", \"TEMP\",\"Mag\", \"x\", \"y\", \"z\"]\n",
        "\n",
        "  def __len__(self):\n",
        "    return self.patients.length - (self.seq_len-1) * self.patients.getNumberOfPatients()\n",
        "\n",
        "  def __getitem__(self, relative_index):\n",
        "    segment_index = self.patients.getIndex(relative_index)\n",
        "    patient_accumulated = self.patients.patient_indexes[segment_index+1]\n",
        "    patient_length = self.patients.patient_lengths[segment_index]\n",
        "\n",
        "    start = patient_accumulated - patient_length\n",
        "    end = start + self.seq_len\n",
        "\n",
        "    patient_id = self.patients.patient_ids[segment_index]\n",
        "    patient = self.patients.getPatient(patient_id)\n",
        "\n",
        "    print(\" relative index: {} \\n segment index: {}\\n patient cumulative: {} \\n patient length: {}\".format(\n",
        "        relative_index, segment_index, patient_accumulated, patient_length))\n",
        "    \"\"\"\n",
        "    segment_list = np.zeros((self.seq_len, 8, 7679))\n",
        "    for i in range(start, end):\n",
        "      for j in range(len(self.fields)):\n",
        "        segment_list[i-start, j, :] = patient.getPatientData(self.fields[j], i)\n",
        "    \"\"\"\n",
        "      \n",
        "    sequence = patient.segments[start:end, :, :]\n",
        "\n",
        "    return (sequence, patient.getTargetRange(start, end))"
      ],
      "metadata": {
        "id": "4mYBaUWIRvFR"
      },
      "execution_count": null,
      "outputs": []
    },
    {
      "cell_type": "code",
      "source": [
        "train_dataset = TimeseriesDataset(patients)\n",
        "train_loader = torch.utils.data.DataLoader(train_dataset, batch_size = 64, shuffle = False)\n",
        "\n",
        "for i, d in enumerate(train_loader):\n",
        "    print(i, d[0].shape, d[1].shape)"
      ],
      "metadata": {
        "id": "TJwrrR4Twybs",
        "colab": {
          "base_uri": "https://localhost:8080/"
        },
        "outputId": "680c8d4a-616c-4dd4-c83e-f881cd0dc11b"
      },
      "execution_count": null,
      "outputs": [
        {
          "output_type": "stream",
          "name": "stdout",
          "text": [
            "loading data for patient: 00182\n"
          ]
        }
      ]
    },
    {
      "cell_type": "code",
      "source": [
        "class RNN(nn.Module):\n",
        "    def __init__(self, input_size, hidden_size, num_layers, num_classes):\n",
        "        super(RNN, self).__init__()\n",
        "        self.hidden_size = hidden_size\n",
        "        self.num_layers = num_layers\n",
        "        self.lstm = nn.LSTM(input_size, hidden_size, num_layers, batch_first=True)\n",
        "        self.fc = nn.Linear(hidden_size, num_classes)\n",
        "    \n",
        "    def forward(self, x):\n",
        "        # Set initial hidden and cell states \n",
        "        h0 = torch.zeros(self.num_layers, x.size(0), self.hidden_size).to(device) \n",
        "        c0 = torch.zeros(self.num_layers, x.size(0), self.hidden_size).to(device)\n",
        "        \n",
        "        # Forward propagate LSTM\n",
        "        out, _ = self.lstm(x, (h0, c0))  # out: tensor of shape (batch_size, seq_length, hidden_size)\n",
        "        \n",
        "        # Decode the hidden state of the last time step\n",
        "        out = self.fc(out[:, -1, :])\n",
        "        return out\n",
        "\n",
        "model = RNN(input_size=8, hidden_size=128, num_layers=4, num_classes=3).to(device)"
      ],
      "metadata": {
        "id": "zVoc3mO-FnIT"
      },
      "execution_count": null,
      "outputs": []
    },
    {
      "cell_type": "code",
      "source": [
        "learning_rate = 0.001\n",
        "num_epochs = 10\n",
        "sequence_length = 60\n",
        "input_size = 8\n",
        "\n",
        "# Loss and optimizer\n",
        "criterion = nn.CrossEntropyLoss()\n",
        "optimizer = torch.optim.Adam(model.parameters(), lr=learning_rate)\n",
        "\n",
        "# Train the model\n",
        "total_step = len(train_loader)\n",
        "for epoch in range(num_epochs):\n",
        "    for i, (images, labels) in enumerate(train_loader):\n",
        "        images = images.reshape(-1, sequence_length, input_size).to(device)\n",
        "        labels = labels.to(device)\n",
        "        \n",
        "        # Forward pass\n",
        "        outputs = model(images)\n",
        "        loss = criterion(outputs, labels)\n",
        "        \n",
        "        # Backward and optimize\n",
        "        optimizer.zero_grad()\n",
        "        loss.backward()\n",
        "        optimizer.step()\n",
        "        \n",
        "        if (i+1) % 100 == 0:\n",
        "            print ('Epoch [{}/{}], Step [{}/{}], Loss: {:.4f}' \n",
        "                   .format(epoch+1, num_epochs, i+1, total_step, loss.item()))\n",
        "\"\"\"\n",
        "# Test the model\n",
        "model.eval()\n",
        "with torch.no_grad():\n",
        "    correct = 0\n",
        "    total = 0\n",
        "    for images, labels in test_loader:\n",
        "        images = images.reshape(-1, sequence_length, input_size).to(device)\n",
        "        labels = labels.to(device)\n",
        "        outputs = model(images)\n",
        "        _, predicted = torch.max(outputs.data, 1)\n",
        "        total += labels.size(0)\n",
        "        correct += (predicted == labels).sum().item()\n",
        "\n",
        "    print('Test Accuracy of the model on the 10000 test images: {} %'.format(100 * correct / total)) \n",
        "\n",
        "# Save the model checkpoint\n",
        "torch.save(model.state_dict(), 'model.ckpt')\n",
        "\n",
        "\"\"\""
      ],
      "metadata": {
        "id": "GAsIfRqiGxe0"
      },
      "execution_count": null,
      "outputs": []
    }
  ]
}