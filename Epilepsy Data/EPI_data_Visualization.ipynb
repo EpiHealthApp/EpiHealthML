{
  "nbformat": 4,
  "nbformat_minor": 0,
  "metadata": {
    "colab": {
      "name": "EPI data Visualization.ipynb",
      "provenance": [],
      "collapsed_sections": []
    },
    "kernelspec": {
      "name": "python3",
      "display_name": "Python 3"
    },
    "language_info": {
      "name": "python"
    },
    "accelerator": "GPU"
  },
  "cells": [
    {
      "cell_type": "code",
      "execution_count": null,
      "metadata": {
        "colab": {
          "base_uri": "https://localhost:8080/"
        },
        "id": "RlTGobNn7SL5",
        "outputId": "38aaeae7-f3c7-42f1-c60f-94939d14094d"
      },
      "outputs": [
        {
          "output_type": "stream",
          "name": "stdout",
          "text": [
            "Drive already mounted at /content/drive; to attempt to forcibly remount, call drive.mount(\"/content/drive\", force_remount=True).\n"
          ]
        }
      ],
      "source": [
        "from google.colab import drive\n",
        "drive.mount('/content/drive')"
      ]
    },
    {
      "cell_type": "code",
      "source": [
        "path = '/content/drive/My Drive'\n",
        "\n",
        "import os\n",
        "os.chdir(path+\"/epi_data_folders\")\n",
        "!ls"
      ],
      "metadata": {
        "colab": {
          "base_uri": "https://localhost:8080/"
        },
        "id": "BdqrYP5P7oqC",
        "outputId": "34d3e1f1-e581-466c-c03e-6f625e20a750"
      },
      "execution_count": null,
      "outputs": [
        {
          "output_type": "stream",
          "name": "stdout",
          "text": [
            "MSEL_00172  MSEL_00502\tMSEL_01676  MSEL_01808\tMSEL_01844\n",
            "MSEL_00182  MSEL_01097\tMSEL_01709  MSEL_01828\tMSEL_01849\n",
            "MSEL_00501  MSEL_01575\tMSEL_01763  MSEL_01842\tMSEL_01870\n"
          ]
        }
      ]
    },
    {
      "cell_type": "code",
      "source": [
        "os.chdir(\"/content/epi_data_folders/MSEL_01097/Empatica-ACC\")\n",
        "!ls"
      ],
      "metadata": {
        "id": "vtEQXieA-x17",
        "colab": {
          "base_uri": "https://localhost:8080/",
          "height": 200
        },
        "outputId": "861e20bc-a4f4-4cfc-df96-9c7b7d491eea"
      },
      "execution_count": null,
      "outputs": [
        {
          "output_type": "error",
          "ename": "FileNotFoundError",
          "evalue": "ignored",
          "traceback": [
            "\u001b[0;31m---------------------------------------------------------------------------\u001b[0m",
            "\u001b[0;31mFileNotFoundError\u001b[0m                         Traceback (most recent call last)",
            "\u001b[0;32m<ipython-input-3-bd4fed107a1a>\u001b[0m in \u001b[0;36m<module>\u001b[0;34m()\u001b[0m\n\u001b[0;32m----> 1\u001b[0;31m \u001b[0mos\u001b[0m\u001b[0;34m.\u001b[0m\u001b[0mchdir\u001b[0m\u001b[0;34m(\u001b[0m\u001b[0;34m\"/content/epi_data_folders/MSEL_01097/Empatica-ACC\"\u001b[0m\u001b[0;34m)\u001b[0m\u001b[0;34m\u001b[0m\u001b[0;34m\u001b[0m\u001b[0m\n\u001b[0m\u001b[1;32m      2\u001b[0m \u001b[0mget_ipython\u001b[0m\u001b[0;34m(\u001b[0m\u001b[0;34m)\u001b[0m\u001b[0;34m.\u001b[0m\u001b[0msystem\u001b[0m\u001b[0;34m(\u001b[0m\u001b[0;34m'ls'\u001b[0m\u001b[0;34m)\u001b[0m\u001b[0;34m\u001b[0m\u001b[0;34m\u001b[0m\u001b[0m\n",
            "\u001b[0;31mFileNotFoundError\u001b[0m: [Errno 2] No such file or directory: '/content/epi_data_folders/MSEL_01097/Empatica-ACC'"
          ]
        }
      ]
    },
    {
      "cell_type": "code",
      "source": [
        "import pandas as pd"
      ],
      "metadata": {
        "id": "sjwlovet_iaz"
      },
      "execution_count": null,
      "outputs": []
    },
    {
      "cell_type": "code",
      "source": [
        "sample_file_mag = \"/content/data/MSEL_01097/Empatica-ACC/MSEL_01097_Empatica-ACC_Acc Mag_segment_0.parquet\"\n",
        "sample_file_x = \"/content/data/MSEL_01097/Empatica-ACC/MSEL_01097_Empatica-ACC_Acc x_segment_0.parquet\"\n",
        "sample_file_y = \"/content/data/MSEL_01097/Empatica-ACC/MSEL_01097_Empatica-ACC_Acc y_segment_0.parquet\"\n",
        "sample_file_z = \"/content/data/MSEL_01097/Empatica-ACC/MSEL_01097_Empatica-ACC_Acc z_segment_0.parquet\"\n",
        "sample_BVP = \"/content/data/MSEL_01097/Empatica-BVP/MSEL_01097_Empatica-BVP_BVP_segment_0.parquet\""
      ],
      "metadata": {
        "id": "fKcd8wj7_oiD"
      },
      "execution_count": null,
      "outputs": []
    },
    {
      "cell_type": "code",
      "source": [
        "mag = pd.read_parquet(sample_file_mag, engine=\"auto\")\n",
        "x = pd.read_parquet(sample_file_x, engine=\"auto\")\n",
        "y = pd.read_parquet(sample_file_y, engine=\"auto\")\n",
        "z = pd.read_parquet(sample_file_z, engine=\"auto\")"
      ],
      "metadata": {
        "id": "S5duWTL7_41Z"
      },
      "execution_count": null,
      "outputs": []
    },
    {
      "cell_type": "code",
      "source": [
        "import matplotlib.pyplot as plt\n",
        "\n",
        "\n",
        "\n",
        "plt.subplot(3, 1, 1)\n",
        "plt.plot(x[\"time\"], x[\"data\"], '-')\n",
        "plt.title('A tale of 3 subplots')\n",
        "plt.ylabel('X acceleration')\n",
        "\n",
        "plt.subplot(3, 1, 2)\n",
        "plt.plot(y[\"time\"], y[\"data\"], '-')\n",
        "plt.xlabel('time')\n",
        "plt.ylabel('Y acceleration')\n",
        "\n",
        "plt.subplot(3, 1, 3)\n",
        "plt.plot(z[\"time\"], z[\"data\"], '-')\n",
        "plt.xlabel('time')\n",
        "plt.ylabel('Z acceleration')\n",
        "\"\"\"\n",
        "plt.subplot(3, 1, 3)\n",
        "plt.plot(mag[\"time\"], mag[\"data\"], '-')\n",
        "plt.xlabel('time')\n",
        "plt.ylabel('Z acceleration')\n",
        "\"\"\"\n",
        "plt.show()"
      ],
      "metadata": {
        "id": "X5Y_K_8VAet1",
        "colab": {
          "base_uri": "https://localhost:8080/",
          "height": 295
        },
        "outputId": "875a7faa-b825-4978-ffa8-7141e5a04143"
      },
      "execution_count": null,
      "outputs": [
        {
          "output_type": "display_data",
          "data": {
            "text/plain": [
              "<Figure size 432x288 with 3 Axes>"
            ],
            "image/png": "[encoded data removed]"
          },
          "metadata": {
            "needs_background": "light"
          }
        }
      ]
    },
    {
      "cell_type": "code",
      "source": [
        "x.rename(columns={'time': 'time', 'data': 'x-position'}, inplace=True)\n",
        "y.rename(columns={'time': 'time', 'data': 'y-position'}, inplace=True)\n",
        "z.rename(columns={'time': 'time', 'data': 'z-position'}, inplace=True)"
      ],
      "metadata": {
        "id": "C2UcaNMMZw-3"
      },
      "execution_count": null,
      "outputs": []
    },
    {
      "cell_type": "code",
      "source": [
        "os.chdir(\"/content/data/MSEL_01097/Empatica-BVP\")\n",
        "!ls"
      ],
      "metadata": {
        "id": "CPwNNycKLgbC"
      },
      "execution_count": null,
      "outputs": []
    },
    {
      "cell_type": "code",
      "source": [
        "BVP = pd.read_parquet(sample_BVP, engine=\"auto\")\n",
        "BVP.rename(columns={'time': 'time', 'data': 'BVP'}, inplace=True)"
      ],
      "metadata": {
        "id": "oaMEpwbcLtWG"
      },
      "execution_count": null,
      "outputs": []
    },
    {
      "cell_type": "code",
      "source": [
        "plt.plot(BVP[\"time\"], BVP[\"data\"], '-')\n",
        "plt.title('BVP Segment 0')\n",
        "plt.xlabel('time (ms)')\n",
        "plt.ylabel('BVP')"
      ],
      "metadata": {
        "colab": {
          "base_uri": "https://localhost:8080/",
          "height": 312
        },
        "id": "dAVofgg6MJRs",
        "outputId": "535a0d57-f193-4828-8040-2516106758f1"
      },
      "execution_count": null,
      "outputs": [
        {
          "output_type": "execute_result",
          "data": {
            "text/plain": [
              "Text(0, 0.5, 'BVP')"
            ]
          },
          "metadata": {},
          "execution_count": 15
        },
        {
          "output_type": "display_data",
          "data": {
            "text/plain": [
              "<Figure size 432x288 with 1 Axes>"
            ],
            "image/png": "[encoded data removed]"
          },
          "metadata": {
            "needs_background": "light"
          }
        }
      ]
    },
    {
      "cell_type": "code",
      "source": [
        "BVP"
      ],
      "metadata": {
        "colab": {
          "base_uri": "https://localhost:8080/",
          "height": 424
        },
        "id": "B1BIZ6SpMaw-",
        "outputId": "3061d0f5-be14-40dc-d992-5103746d327c"
      },
      "execution_count": null,
      "outputs": [
        {
          "output_type": "execute_result",
          "data": {
            "text/plain": [
              "                time          data\n",
              "0       1.552336e+12  1.672363e+08\n",
              "1       1.552336e+12  1.672363e+08\n",
              "2       1.552336e+12  1.672363e+08\n",
              "3       1.552336e+12  1.672363e+08\n",
              "4       1.552336e+12  1.672363e+08\n",
              "...              ...           ...\n",
              "459995  1.552340e+12 -1.411939e+10\n",
              "459996  1.552340e+12 -1.317334e+10\n",
              "459997  1.552340e+12 -1.203784e+10\n",
              "459998  1.552340e+12 -1.080786e+10\n",
              "459999  1.552340e+12 -9.577881e+09\n",
              "\n",
              "[460000 rows x 2 columns]"
            ],
            "text/html": [
              "\n",
              "  <div id=\"df-f1bea80e-a54d-4d9c-8656-bbb055a55406\">\n",
              "    <div class=\"colab-df-container\">\n",
              "      <div>\n",
              "<style scoped>\n",
              "    .dataframe tbody tr th:only-of-type {\n",
              "        vertical-align: middle;\n",
              "    }\n",
              "\n",
              "    .dataframe tbody tr th {\n",
              "        vertical-align: top;\n",
              "    }\n",
              "\n",
              "    .dataframe thead th {\n",
              "        text-align: right;\n",
              "    }\n",
              "</style>\n",
              "<table border=\"1\" class=\"dataframe\">\n",
              "  <thead>\n",
              "    <tr style=\"text-align: right;\">\n",
              "      <th></th>\n",
              "      <th>time</th>\n",
              "      <th>data</th>\n",
              "    </tr>\n",
              "  </thead>\n",
              "  <tbody>\n",
              "    <tr>\n",
              "      <th>0</th>\n",
              "      <td>1.552336e+12</td>\n",
              "      <td>1.672363e+08</td>\n",
              "    </tr>\n",
              "    <tr>\n",
              "      <th>1</th>\n",
              "      <td>1.552336e+12</td>\n",
              "      <td>1.672363e+08</td>\n",
              "    </tr>\n",
              "    <tr>\n",
              "      <th>2</th>\n",
              "      <td>1.552336e+12</td>\n",
              "      <td>1.672363e+08</td>\n",
              "    </tr>\n",
              "    <tr>\n",
              "      <th>3</th>\n",
              "      <td>1.552336e+12</td>\n",
              "      <td>1.672363e+08</td>\n",
              "    </tr>\n",
              "    <tr>\n",
              "      <th>4</th>\n",
              "      <td>1.552336e+12</td>\n",
              "      <td>1.672363e+08</td>\n",
              "    </tr>\n",
              "    <tr>\n",
              "      <th>...</th>\n",
              "      <td>...</td>\n",
              "      <td>...</td>\n",
              "    </tr>\n",
              "    <tr>\n",
              "      <th>459995</th>\n",
              "      <td>1.552340e+12</td>\n",
              "      <td>-1.411939e+10</td>\n",
              "    </tr>\n",
              "    <tr>\n",
              "      <th>459996</th>\n",
              "      <td>1.552340e+12</td>\n",
              "      <td>-1.317334e+10</td>\n",
              "    </tr>\n",
              "    <tr>\n",
              "      <th>459997</th>\n",
              "      <td>1.552340e+12</td>\n",
              "      <td>-1.203784e+10</td>\n",
              "    </tr>\n",
              "    <tr>\n",
              "      <th>459998</th>\n",
              "      <td>1.552340e+12</td>\n",
              "      <td>-1.080786e+10</td>\n",
              "    </tr>\n",
              "    <tr>\n",
              "      <th>459999</th>\n",
              "      <td>1.552340e+12</td>\n",
              "      <td>-9.577881e+09</td>\n",
              "    </tr>\n",
              "  </tbody>\n",
              "</table>\n",
              "<p>460000 rows × 2 columns</p>\n",
              "</div>\n",
              "      <button class=\"colab-df-convert\" onclick=\"convertToInteractive('df-f1bea80e-a54d-4d9c-8656-bbb055a55406')\"\n",
              "              title=\"Convert this dataframe to an interactive table.\"\n",
              "              style=\"display:none;\">\n",
              "        \n",
              "  <svg xmlns=\"http://www.w3.org/2000/svg\" height=\"24px\"viewBox=\"0 0 24 24\"\n",
              "       width=\"24px\">\n",
              "    <path d=\"M0 0h24v24H0V0z\" fill=\"none\"/>\n",
              "    <path d=\"M18.56 5.44l.94 2.06.94-2.06 2.06-.94-2.06-.94-.94-2.06-.94 2.06-2.06.94zm-11 1L8.5 8.5l.94-2.06 2.06-.94-2.06-.94L8.5 2.5l-.94 2.06-2.06.94zm10 10l.94 2.06.94-2.06 2.06-.94-2.06-.94-.94-2.06-.94 2.06-2.06.94z\"/><path d=\"M17.41 7.96l-1.37-1.37c-.4-.4-.92-.59-1.43-.59-.52 0-1.04.2-1.43.59L10.3 9.45l-7.72 7.72c-.78.78-.78 2.05 0 2.83L4 21.41c.39.39.9.59 1.41.59.51 0 1.02-.2 1.41-.59l7.78-7.78 2.81-2.81c.8-.78.8-2.07 0-2.86zM5.41 20L4 18.59l7.72-7.72 1.47 1.35L5.41 20z\"/>\n",
              "  </svg>\n",
              "      </button>\n",
              "      \n",
              "  <style>\n",
              "    .colab-df-container {\n",
              "      display:flex;\n",
              "      flex-wrap:wrap;\n",
              "      gap: 12px;\n",
              "    }\n",
              "\n",
              "    .colab-df-convert {\n",
              "      background-color: #E8F0FE;\n",
              "      border: none;\n",
              "      border-radius: 50%;\n",
              "      cursor: pointer;\n",
              "      display: none;\n",
              "      fill: #1967D2;\n",
              "      height: 32px;\n",
              "      padding: 0 0 0 0;\n",
              "      width: 32px;\n",
              "    }\n",
              "\n",
              "    .colab-df-convert:hover {\n",
              "      background-color: #E2EBFA;\n",
              "      box-shadow: 0px 1px 2px rgba(60, 64, 67, 0.3), 0px 1px 3px 1px rgba(60, 64, 67, 0.15);\n",
              "      fill: #174EA6;\n",
              "    }\n",
              "\n",
              "    [theme=dark] .colab-df-convert {\n",
              "      background-color: #3B4455;\n",
              "      fill: #D2E3FC;\n",
              "    }\n",
              "\n",
              "    [theme=dark] .colab-df-convert:hover {\n",
              "      background-color: #434B5C;\n",
              "      box-shadow: 0px 1px 3px 1px rgba(0, 0, 0, 0.15);\n",
              "      filter: drop-shadow(0px 1px 2px rgba(0, 0, 0, 0.3));\n",
              "      fill: #FFFFFF;\n",
              "    }\n",
              "  </style>\n",
              "\n",
              "      <script>\n",
              "        const buttonEl =\n",
              "          document.querySelector('#df-f1bea80e-a54d-4d9c-8656-bbb055a55406 button.colab-df-convert');\n",
              "        buttonEl.style.display =\n",
              "          google.colab.kernel.accessAllowed ? 'block' : 'none';\n",
              "\n",
              "        async function convertToInteractive(key) {\n",
              "          const element = document.querySelector('#df-f1bea80e-a54d-4d9c-8656-bbb055a55406');\n",
              "          const dataTable =\n",
              "            await google.colab.kernel.invokeFunction('convertToInteractive',\n",
              "                                                     [key], {});\n",
              "          if (!dataTable) return;\n",
              "\n",
              "          const docLinkHtml = 'Like what you see? Visit the ' +\n",
              "            '<a target=\"_blank\" href=https://colab.research.google.com/notebooks/data_table.ipynb>data table notebook</a>'\n",
              "            + ' to learn more about interactive tables.';\n",
              "          element.innerHTML = '';\n",
              "          dataTable['output_type'] = 'display_data';\n",
              "          await google.colab.output.renderOutput(dataTable, element);\n",
              "          const docLink = document.createElement('div');\n",
              "          docLink.innerHTML = docLinkHtml;\n",
              "          element.appendChild(docLink);\n",
              "        }\n",
              "      </script>\n",
              "    </div>\n",
              "  </div>\n",
              "  "
            ]
          },
          "metadata": {},
          "execution_count": 98
        }
      ]
    },
    {
      "cell_type": "code",
      "source": [
        ""
      ],
      "metadata": {
        "id": "-C5JV7whPqzY"
      },
      "execution_count": null,
      "outputs": []
    },
    {
      "cell_type": "code",
      "source": [
        "BVP"
      ],
      "metadata": {
        "colab": {
          "base_uri": "https://localhost:8080/",
          "height": 424
        },
        "id": "web02P-VQgyQ",
        "outputId": "0e8fffa7-6ef0-45e4-b4ac-b80cd85b427f"
      },
      "execution_count": null,
      "outputs": [
        {
          "output_type": "execute_result",
          "data": {
            "text/plain": [
              "                time           BVP\n",
              "0       1.552336e+12  1.672363e+08\n",
              "1       1.552336e+12  1.672363e+08\n",
              "2       1.552336e+12  1.672363e+08\n",
              "3       1.552336e+12  1.672363e+08\n",
              "4       1.552336e+12  1.672363e+08\n",
              "...              ...           ...\n",
              "459995  1.552340e+12 -1.411939e+10\n",
              "459996  1.552340e+12 -1.317334e+10\n",
              "459997  1.552340e+12 -1.203784e+10\n",
              "459998  1.552340e+12 -1.080786e+10\n",
              "459999  1.552340e+12 -9.577881e+09\n",
              "\n",
              "[460000 rows x 2 columns]"
            ],
            "text/html": [
              "\n",
              "  <div id=\"df-f0d2c1af-1d15-4a77-967f-1c2a9409dfd1\">\n",
              "    <div class=\"colab-df-container\">\n",
              "      <div>\n",
              "<style scoped>\n",
              "    .dataframe tbody tr th:only-of-type {\n",
              "        vertical-align: middle;\n",
              "    }\n",
              "\n",
              "    .dataframe tbody tr th {\n",
              "        vertical-align: top;\n",
              "    }\n",
              "\n",
              "    .dataframe thead th {\n",
              "        text-align: right;\n",
              "    }\n",
              "</style>\n",
              "<table border=\"1\" class=\"dataframe\">\n",
              "  <thead>\n",
              "    <tr style=\"text-align: right;\">\n",
              "      <th></th>\n",
              "      <th>time</th>\n",
              "      <th>BVP</th>\n",
              "    </tr>\n",
              "  </thead>\n",
              "  <tbody>\n",
              "    <tr>\n",
              "      <th>0</th>\n",
              "      <td>1.552336e+12</td>\n",
              "      <td>1.672363e+08</td>\n",
              "    </tr>\n",
              "    <tr>\n",
              "      <th>1</th>\n",
              "      <td>1.552336e+12</td>\n",
              "      <td>1.672363e+08</td>\n",
              "    </tr>\n",
              "    <tr>\n",
              "      <th>2</th>\n",
              "      <td>1.552336e+12</td>\n",
              "      <td>1.672363e+08</td>\n",
              "    </tr>\n",
              "    <tr>\n",
              "      <th>3</th>\n",
              "      <td>1.552336e+12</td>\n",
              "      <td>1.672363e+08</td>\n",
              "    </tr>\n",
              "    <tr>\n",
              "      <th>4</th>\n",
              "      <td>1.552336e+12</td>\n",
              "      <td>1.672363e+08</td>\n",
              "    </tr>\n",
              "    <tr>\n",
              "      <th>...</th>\n",
              "      <td>...</td>\n",
              "      <td>...</td>\n",
              "    </tr>\n",
              "    <tr>\n",
              "      <th>459995</th>\n",
              "      <td>1.552340e+12</td>\n",
              "      <td>-1.411939e+10</td>\n",
              "    </tr>\n",
              "    <tr>\n",
              "      <th>459996</th>\n",
              "      <td>1.552340e+12</td>\n",
              "      <td>-1.317334e+10</td>\n",
              "    </tr>\n",
              "    <tr>\n",
              "      <th>459997</th>\n",
              "      <td>1.552340e+12</td>\n",
              "      <td>-1.203784e+10</td>\n",
              "    </tr>\n",
              "    <tr>\n",
              "      <th>459998</th>\n",
              "      <td>1.552340e+12</td>\n",
              "      <td>-1.080786e+10</td>\n",
              "    </tr>\n",
              "    <tr>\n",
              "      <th>459999</th>\n",
              "      <td>1.552340e+12</td>\n",
              "      <td>-9.577881e+09</td>\n",
              "    </tr>\n",
              "  </tbody>\n",
              "</table>\n",
              "<p>460000 rows × 2 columns</p>\n",
              "</div>\n",
              "      <button class=\"colab-df-convert\" onclick=\"convertToInteractive('df-f0d2c1af-1d15-4a77-967f-1c2a9409dfd1')\"\n",
              "              title=\"Convert this dataframe to an interactive table.\"\n",
              "              style=\"display:none;\">\n",
              "        \n",
              "  <svg xmlns=\"http://www.w3.org/2000/svg\" height=\"24px\"viewBox=\"0 0 24 24\"\n",
              "       width=\"24px\">\n",
              "    <path d=\"M0 0h24v24H0V0z\" fill=\"none\"/>\n",
              "    <path d=\"M18.56 5.44l.94 2.06.94-2.06 2.06-.94-2.06-.94-.94-2.06-.94 2.06-2.06.94zm-11 1L8.5 8.5l.94-2.06 2.06-.94-2.06-.94L8.5 2.5l-.94 2.06-2.06.94zm10 10l.94 2.06.94-2.06 2.06-.94-2.06-.94-.94-2.06-.94 2.06-2.06.94z\"/><path d=\"M17.41 7.96l-1.37-1.37c-.4-.4-.92-.59-1.43-.59-.52 0-1.04.2-1.43.59L10.3 9.45l-7.72 7.72c-.78.78-.78 2.05 0 2.83L4 21.41c.39.39.9.59 1.41.59.51 0 1.02-.2 1.41-.59l7.78-7.78 2.81-2.81c.8-.78.8-2.07 0-2.86zM5.41 20L4 18.59l7.72-7.72 1.47 1.35L5.41 20z\"/>\n",
              "  </svg>\n",
              "      </button>\n",
              "      \n",
              "  <style>\n",
              "    .colab-df-container {\n",
              "      display:flex;\n",
              "      flex-wrap:wrap;\n",
              "      gap: 12px;\n",
              "    }\n",
              "\n",
              "    .colab-df-convert {\n",
              "      background-color: #E8F0FE;\n",
              "      border: none;\n",
              "      border-radius: 50%;\n",
              "      cursor: pointer;\n",
              "      display: none;\n",
              "      fill: #1967D2;\n",
              "      height: 32px;\n",
              "      padding: 0 0 0 0;\n",
              "      width: 32px;\n",
              "    }\n",
              "\n",
              "    .colab-df-convert:hover {\n",
              "      background-color: #E2EBFA;\n",
              "      box-shadow: 0px 1px 2px rgba(60, 64, 67, 0.3), 0px 1px 3px 1px rgba(60, 64, 67, 0.15);\n",
              "      fill: #174EA6;\n",
              "    }\n",
              "\n",
              "    [theme=dark] .colab-df-convert {\n",
              "      background-color: #3B4455;\n",
              "      fill: #D2E3FC;\n",
              "    }\n",
              "\n",
              "    [theme=dark] .colab-df-convert:hover {\n",
              "      background-color: #434B5C;\n",
              "      box-shadow: 0px 1px 3px 1px rgba(0, 0, 0, 0.15);\n",
              "      filter: drop-shadow(0px 1px 2px rgba(0, 0, 0, 0.3));\n",
              "      fill: #FFFFFF;\n",
              "    }\n",
              "  </style>\n",
              "\n",
              "      <script>\n",
              "        const buttonEl =\n",
              "          document.querySelector('#df-f0d2c1af-1d15-4a77-967f-1c2a9409dfd1 button.colab-df-convert');\n",
              "        buttonEl.style.display =\n",
              "          google.colab.kernel.accessAllowed ? 'block' : 'none';\n",
              "\n",
              "        async function convertToInteractive(key) {\n",
              "          const element = document.querySelector('#df-f0d2c1af-1d15-4a77-967f-1c2a9409dfd1');\n",
              "          const dataTable =\n",
              "            await google.colab.kernel.invokeFunction('convertToInteractive',\n",
              "                                                     [key], {});\n",
              "          if (!dataTable) return;\n",
              "\n",
              "          const docLinkHtml = 'Like what you see? Visit the ' +\n",
              "            '<a target=\"_blank\" href=https://colab.research.google.com/notebooks/data_table.ipynb>data table notebook</a>'\n",
              "            + ' to learn more about interactive tables.';\n",
              "          element.innerHTML = '';\n",
              "          dataTable['output_type'] = 'display_data';\n",
              "          await google.colab.output.renderOutput(dataTable, element);\n",
              "          const docLink = document.createElement('div');\n",
              "          docLink.innerHTML = docLinkHtml;\n",
              "          element.appendChild(docLink);\n",
              "        }\n",
              "      </script>\n",
              "    </div>\n",
              "  </div>\n",
              "  "
            ]
          },
          "metadata": {},
          "execution_count": 100
        }
      ]
    },
    {
      "cell_type": "code",
      "source": [
        "merge_df = pd.merge(x, y, on='time', z, on = 'time')\n",
        "merge_df"
      ],
      "metadata": {
        "colab": {
          "base_uri": "https://localhost:8080/",
          "height": 130
        },
        "id": "IqtJdnnlQhYz",
        "outputId": "755684a2-0243-4c49-a510-0afc185b7e3e"
      },
      "execution_count": null,
      "outputs": [
        {
          "output_type": "error",
          "ename": "SyntaxError",
          "evalue": "ignored",
          "traceback": [
            "\u001b[0;36m  File \u001b[0;32m\"<ipython-input-17-760fe9adc6cb>\"\u001b[0;36m, line \u001b[0;32m1\u001b[0m\n\u001b[0;31m    merge_df = pd.merge(x, y, on='time', z, on = 'time')\u001b[0m\n\u001b[0m                                        ^\u001b[0m\n\u001b[0;31mSyntaxError\u001b[0m\u001b[0;31m:\u001b[0m positional argument follows keyword argument\n"
          ]
        }
      ]
    },
    {
      "cell_type": "code",
      "source": [
        "merge_df = pd.merge(merge_df, z, on='time')"
      ],
      "metadata": {
        "id": "_rzM7LEjREqz"
      },
      "execution_count": null,
      "outputs": []
    },
    {
      "cell_type": "code",
      "source": [
        "merge_df"
      ],
      "metadata": {
        "colab": {
          "base_uri": "https://localhost:8080/",
          "height": 424
        },
        "id": "suxvHmvERO2e",
        "outputId": "93f3264c-8415-49fa-8548-2352724bb7c3"
      },
      "execution_count": null,
      "outputs": [
        {
          "output_type": "execute_result",
          "data": {
            "text/plain": [
              "                time    x-position    y-position    z-position\n",
              "0       1.552336e+12 -1.199174e+10 -2.299048e+10  5.799730e+10\n",
              "1       1.552336e+12 -1.174261e+10 -2.299048e+10  5.799730e+10\n",
              "2       1.552336e+12 -1.149346e+10 -2.299048e+10  5.799730e+10\n",
              "3       1.552336e+12 -1.124431e+10 -2.299048e+10  5.799730e+10\n",
              "4       1.552336e+12 -1.098998e+10 -2.299048e+10  5.799730e+10\n",
              "...              ...           ...           ...           ...\n",
              "459995  1.552340e+12  1.100746e+10 -1.699023e+10  6.051990e+10\n",
              "459996  1.552340e+12  1.100746e+10 -1.699023e+10  6.076904e+10\n",
              "459997  1.552340e+12  1.100746e+10 -1.699023e+10  6.099742e+10\n",
              "459998  1.552340e+12  1.100746e+10 -1.699023e+10  6.099742e+10\n",
              "459999  1.552340e+12  1.100746e+10 -1.699023e+10  6.099742e+10\n",
              "\n",
              "[460000 rows x 4 columns]"
            ],
            "text/html": [
              "\n",
              "  <div id=\"df-1b746c84-ab5c-40a9-9ff3-9fcaabbe7b0d\">\n",
              "    <div class=\"colab-df-container\">\n",
              "      <div>\n",
              "<style scoped>\n",
              "    .dataframe tbody tr th:only-of-type {\n",
              "        vertical-align: middle;\n",
              "    }\n",
              "\n",
              "    .dataframe tbody tr th {\n",
              "        vertical-align: top;\n",
              "    }\n",
              "\n",
              "    .dataframe thead th {\n",
              "        text-align: right;\n",
              "    }\n",
              "</style>\n",
              "<table border=\"1\" class=\"dataframe\">\n",
              "  <thead>\n",
              "    <tr style=\"text-align: right;\">\n",
              "      <th></th>\n",
              "      <th>time</th>\n",
              "      <th>x-position</th>\n",
              "      <th>y-position</th>\n",
              "      <th>z-position</th>\n",
              "    </tr>\n",
              "  </thead>\n",
              "  <tbody>\n",
              "    <tr>\n",
              "      <th>0</th>\n",
              "      <td>1.552336e+12</td>\n",
              "      <td>-1.199174e+10</td>\n",
              "      <td>-2.299048e+10</td>\n",
              "      <td>5.799730e+10</td>\n",
              "    </tr>\n",
              "    <tr>\n",
              "      <th>1</th>\n",
              "      <td>1.552336e+12</td>\n",
              "      <td>-1.174261e+10</td>\n",
              "      <td>-2.299048e+10</td>\n",
              "      <td>5.799730e+10</td>\n",
              "    </tr>\n",
              "    <tr>\n",
              "      <th>2</th>\n",
              "      <td>1.552336e+12</td>\n",
              "      <td>-1.149346e+10</td>\n",
              "      <td>-2.299048e+10</td>\n",
              "      <td>5.799730e+10</td>\n",
              "    </tr>\n",
              "    <tr>\n",
              "      <th>3</th>\n",
              "      <td>1.552336e+12</td>\n",
              "      <td>-1.124431e+10</td>\n",
              "      <td>-2.299048e+10</td>\n",
              "      <td>5.799730e+10</td>\n",
              "    </tr>\n",
              "    <tr>\n",
              "      <th>4</th>\n",
              "      <td>1.552336e+12</td>\n",
              "      <td>-1.098998e+10</td>\n",
              "      <td>-2.299048e+10</td>\n",
              "      <td>5.799730e+10</td>\n",
              "    </tr>\n",
              "    <tr>\n",
              "      <th>...</th>\n",
              "      <td>...</td>\n",
              "      <td>...</td>\n",
              "      <td>...</td>\n",
              "      <td>...</td>\n",
              "    </tr>\n",
              "    <tr>\n",
              "      <th>459995</th>\n",
              "      <td>1.552340e+12</td>\n",
              "      <td>1.100746e+10</td>\n",
              "      <td>-1.699023e+10</td>\n",
              "      <td>6.051990e+10</td>\n",
              "    </tr>\n",
              "    <tr>\n",
              "      <th>459996</th>\n",
              "      <td>1.552340e+12</td>\n",
              "      <td>1.100746e+10</td>\n",
              "      <td>-1.699023e+10</td>\n",
              "      <td>6.076904e+10</td>\n",
              "    </tr>\n",
              "    <tr>\n",
              "      <th>459997</th>\n",
              "      <td>1.552340e+12</td>\n",
              "      <td>1.100746e+10</td>\n",
              "      <td>-1.699023e+10</td>\n",
              "      <td>6.099742e+10</td>\n",
              "    </tr>\n",
              "    <tr>\n",
              "      <th>459998</th>\n",
              "      <td>1.552340e+12</td>\n",
              "      <td>1.100746e+10</td>\n",
              "      <td>-1.699023e+10</td>\n",
              "      <td>6.099742e+10</td>\n",
              "    </tr>\n",
              "    <tr>\n",
              "      <th>459999</th>\n",
              "      <td>1.552340e+12</td>\n",
              "      <td>1.100746e+10</td>\n",
              "      <td>-1.699023e+10</td>\n",
              "      <td>6.099742e+10</td>\n",
              "    </tr>\n",
              "  </tbody>\n",
              "</table>\n",
              "<p>460000 rows × 4 columns</p>\n",
              "</div>\n",
              "      <button class=\"colab-df-convert\" onclick=\"convertToInteractive('df-1b746c84-ab5c-40a9-9ff3-9fcaabbe7b0d')\"\n",
              "              title=\"Convert this dataframe to an interactive table.\"\n",
              "              style=\"display:none;\">\n",
              "        \n",
              "  <svg xmlns=\"http://www.w3.org/2000/svg\" height=\"24px\"viewBox=\"0 0 24 24\"\n",
              "       width=\"24px\">\n",
              "    <path d=\"M0 0h24v24H0V0z\" fill=\"none\"/>\n",
              "    <path d=\"M18.56 5.44l.94 2.06.94-2.06 2.06-.94-2.06-.94-.94-2.06-.94 2.06-2.06.94zm-11 1L8.5 8.5l.94-2.06 2.06-.94-2.06-.94L8.5 2.5l-.94 2.06-2.06.94zm10 10l.94 2.06.94-2.06 2.06-.94-2.06-.94-.94-2.06-.94 2.06-2.06.94z\"/><path d=\"M17.41 7.96l-1.37-1.37c-.4-.4-.92-.59-1.43-.59-.52 0-1.04.2-1.43.59L10.3 9.45l-7.72 7.72c-.78.78-.78 2.05 0 2.83L4 21.41c.39.39.9.59 1.41.59.51 0 1.02-.2 1.41-.59l7.78-7.78 2.81-2.81c.8-.78.8-2.07 0-2.86zM5.41 20L4 18.59l7.72-7.72 1.47 1.35L5.41 20z\"/>\n",
              "  </svg>\n",
              "      </button>\n",
              "      \n",
              "  <style>\n",
              "    .colab-df-container {\n",
              "      display:flex;\n",
              "      flex-wrap:wrap;\n",
              "      gap: 12px;\n",
              "    }\n",
              "\n",
              "    .colab-df-convert {\n",
              "      background-color: #E8F0FE;\n",
              "      border: none;\n",
              "      border-radius: 50%;\n",
              "      cursor: pointer;\n",
              "      display: none;\n",
              "      fill: #1967D2;\n",
              "      height: 32px;\n",
              "      padding: 0 0 0 0;\n",
              "      width: 32px;\n",
              "    }\n",
              "\n",
              "    .colab-df-convert:hover {\n",
              "      background-color: #E2EBFA;\n",
              "      box-shadow: 0px 1px 2px rgba(60, 64, 67, 0.3), 0px 1px 3px 1px rgba(60, 64, 67, 0.15);\n",
              "      fill: #174EA6;\n",
              "    }\n",
              "\n",
              "    [theme=dark] .colab-df-convert {\n",
              "      background-color: #3B4455;\n",
              "      fill: #D2E3FC;\n",
              "    }\n",
              "\n",
              "    [theme=dark] .colab-df-convert:hover {\n",
              "      background-color: #434B5C;\n",
              "      box-shadow: 0px 1px 3px 1px rgba(0, 0, 0, 0.15);\n",
              "      filter: drop-shadow(0px 1px 2px rgba(0, 0, 0, 0.3));\n",
              "      fill: #FFFFFF;\n",
              "    }\n",
              "  </style>\n",
              "\n",
              "      <script>\n",
              "        const buttonEl =\n",
              "          document.querySelector('#df-1b746c84-ab5c-40a9-9ff3-9fcaabbe7b0d button.colab-df-convert');\n",
              "        buttonEl.style.display =\n",
              "          google.colab.kernel.accessAllowed ? 'block' : 'none';\n",
              "\n",
              "        async function convertToInteractive(key) {\n",
              "          const element = document.querySelector('#df-1b746c84-ab5c-40a9-9ff3-9fcaabbe7b0d');\n",
              "          const dataTable =\n",
              "            await google.colab.kernel.invokeFunction('convertToInteractive',\n",
              "                                                     [key], {});\n",
              "          if (!dataTable) return;\n",
              "\n",
              "          const docLinkHtml = 'Like what you see? Visit the ' +\n",
              "            '<a target=\"_blank\" href=https://colab.research.google.com/notebooks/data_table.ipynb>data table notebook</a>'\n",
              "            + ' to learn more about interactive tables.';\n",
              "          element.innerHTML = '';\n",
              "          dataTable['output_type'] = 'display_data';\n",
              "          await google.colab.output.renderOutput(dataTable, element);\n",
              "          const docLink = document.createElement('div');\n",
              "          docLink.innerHTML = docLinkHtml;\n",
              "          element.appendChild(docLink);\n",
              "        }\n",
              "      </script>\n",
              "    </div>\n",
              "  </div>\n",
              "  "
            ]
          },
          "metadata": {},
          "execution_count": 103
        }
      ]
    },
    {
      "cell_type": "code",
      "source": [
        "plt.plot(merge_df['time'],merge_df['x-position'])\n",
        "plt.title('A tale of 3 subplots')\n",
        "plt.ylabel('Acceleration')\n",
        "plt.xlabel('Time')\n"
      ],
      "metadata": {
        "colab": {
          "base_uri": "https://localhost:8080/",
          "height": 312
        },
        "id": "Xog9arMsRQLn",
        "outputId": "e0b99c65-ff77-4951-eedc-6011fa837185"
      },
      "execution_count": null,
      "outputs": [
        {
          "output_type": "execute_result",
          "data": {
            "text/plain": [
              "Text(0.5, 0, 'Time')"
            ]
          },
          "metadata": {},
          "execution_count": 104
        },
        {
          "output_type": "display_data",
          "data": {
            "text/plain": [
              "<Figure size 432x288 with 1 Axes>"
            ],
            "image/png": "[encoded data removed]"
          },
          "metadata": {
            "needs_background": "light"
          }
        }
      ]
    },
    {
      "cell_type": "code",
      "source": [
        "ACC = merge_df.plot(x='time', y=['x-position', 'y-position', 'z-position'])\n",
        "ACC"
      ],
      "metadata": {
        "colab": {
          "base_uri": "https://localhost:8080/",
          "height": 307
        },
        "id": "vyt2vdgtSVyy",
        "outputId": "279a161a-c824-4b43-cd4e-d8dc86231a72"
      },
      "execution_count": null,
      "outputs": [
        {
          "output_type": "execute_result",
          "data": {
            "text/plain": [
              "<matplotlib.axes._subplots.AxesSubplot at 0x7f3bb15d25d0>"
            ]
          },
          "metadata": {},
          "execution_count": 105
        },
        {
          "output_type": "display_data",
          "data": {
            "text/plain": [
              "<Figure size 432x288 with 1 Axes>"
            ],
            "image/png": "[encoded data removed]"
          },
          "metadata": {
            "needs_background": "light"
          }
        }
      ]
    },
    {
      "cell_type": "code",
      "source": [
        "merge_df = pd.merge(merge_df, BVP, on='time')"
      ],
      "metadata": {
        "id": "tHoVm8OrTs01"
      },
      "execution_count": null,
      "outputs": []
    },
    {
      "cell_type": "code",
      "source": [
        "merge_df"
      ],
      "metadata": {
        "colab": {
          "base_uri": "https://localhost:8080/",
          "height": 424
        },
        "id": "_RugY3CsWTC1",
        "outputId": "9369ed8a-7139-42c2-f58f-64d062d7b6ce"
      },
      "execution_count": null,
      "outputs": [
        {
          "output_type": "execute_result",
          "data": {
            "text/plain": [
              "                time    x-position    y-position    z-position           BVP\n",
              "0       1.552336e+12 -1.199174e+10 -2.299048e+10  5.799730e+10  1.672363e+08\n",
              "1       1.552336e+12 -1.174261e+10 -2.299048e+10  5.799730e+10  1.672363e+08\n",
              "2       1.552336e+12 -1.149346e+10 -2.299048e+10  5.799730e+10  1.672363e+08\n",
              "3       1.552336e+12 -1.124431e+10 -2.299048e+10  5.799730e+10  1.672363e+08\n",
              "4       1.552336e+12 -1.098998e+10 -2.299048e+10  5.799730e+10  1.672363e+08\n",
              "...              ...           ...           ...           ...           ...\n",
              "459995  1.552340e+12  1.100746e+10 -1.699023e+10  6.051990e+10 -1.411939e+10\n",
              "459996  1.552340e+12  1.100746e+10 -1.699023e+10  6.076904e+10 -1.317334e+10\n",
              "459997  1.552340e+12  1.100746e+10 -1.699023e+10  6.099742e+10 -1.203784e+10\n",
              "459998  1.552340e+12  1.100746e+10 -1.699023e+10  6.099742e+10 -1.080786e+10\n",
              "459999  1.552340e+12  1.100746e+10 -1.699023e+10  6.099742e+10 -9.577881e+09\n",
              "\n",
              "[460000 rows x 5 columns]"
            ],
            "text/html": [
              "\n",
              "  <div id=\"df-b79b3de1-0039-47f9-a21a-58e95424d4b4\">\n",
              "    <div class=\"colab-df-container\">\n",
              "      <div>\n",
              "<style scoped>\n",
              "    .dataframe tbody tr th:only-of-type {\n",
              "        vertical-align: middle;\n",
              "    }\n",
              "\n",
              "    .dataframe tbody tr th {\n",
              "        vertical-align: top;\n",
              "    }\n",
              "\n",
              "    .dataframe thead th {\n",
              "        text-align: right;\n",
              "    }\n",
              "</style>\n",
              "<table border=\"1\" class=\"dataframe\">\n",
              "  <thead>\n",
              "    <tr style=\"text-align: right;\">\n",
              "      <th></th>\n",
              "      <th>time</th>\n",
              "      <th>x-position</th>\n",
              "      <th>y-position</th>\n",
              "      <th>z-position</th>\n",
              "      <th>BVP</th>\n",
              "    </tr>\n",
              "  </thead>\n",
              "  <tbody>\n",
              "    <tr>\n",
              "      <th>0</th>\n",
              "      <td>1.552336e+12</td>\n",
              "      <td>-1.199174e+10</td>\n",
              "      <td>-2.299048e+10</td>\n",
              "      <td>5.799730e+10</td>\n",
              "      <td>1.672363e+08</td>\n",
              "    </tr>\n",
              "    <tr>\n",
              "      <th>1</th>\n",
              "      <td>1.552336e+12</td>\n",
              "      <td>-1.174261e+10</td>\n",
              "      <td>-2.299048e+10</td>\n",
              "      <td>5.799730e+10</td>\n",
              "      <td>1.672363e+08</td>\n",
              "    </tr>\n",
              "    <tr>\n",
              "      <th>2</th>\n",
              "      <td>1.552336e+12</td>\n",
              "      <td>-1.149346e+10</td>\n",
              "      <td>-2.299048e+10</td>\n",
              "      <td>5.799730e+10</td>\n",
              "      <td>1.672363e+08</td>\n",
              "    </tr>\n",
              "    <tr>\n",
              "      <th>3</th>\n",
              "      <td>1.552336e+12</td>\n",
              "      <td>-1.124431e+10</td>\n",
              "      <td>-2.299048e+10</td>\n",
              "      <td>5.799730e+10</td>\n",
              "      <td>1.672363e+08</td>\n",
              "    </tr>\n",
              "    <tr>\n",
              "      <th>4</th>\n",
              "      <td>1.552336e+12</td>\n",
              "      <td>-1.098998e+10</td>\n",
              "      <td>-2.299048e+10</td>\n",
              "      <td>5.799730e+10</td>\n",
              "      <td>1.672363e+08</td>\n",
              "    </tr>\n",
              "    <tr>\n",
              "      <th>...</th>\n",
              "      <td>...</td>\n",
              "      <td>...</td>\n",
              "      <td>...</td>\n",
              "      <td>...</td>\n",
              "      <td>...</td>\n",
              "    </tr>\n",
              "    <tr>\n",
              "      <th>459995</th>\n",
              "      <td>1.552340e+12</td>\n",
              "      <td>1.100746e+10</td>\n",
              "      <td>-1.699023e+10</td>\n",
              "      <td>6.051990e+10</td>\n",
              "      <td>-1.411939e+10</td>\n",
              "    </tr>\n",
              "    <tr>\n",
              "      <th>459996</th>\n",
              "      <td>1.552340e+12</td>\n",
              "      <td>1.100746e+10</td>\n",
              "      <td>-1.699023e+10</td>\n",
              "      <td>6.076904e+10</td>\n",
              "      <td>-1.317334e+10</td>\n",
              "    </tr>\n",
              "    <tr>\n",
              "      <th>459997</th>\n",
              "      <td>1.552340e+12</td>\n",
              "      <td>1.100746e+10</td>\n",
              "      <td>-1.699023e+10</td>\n",
              "      <td>6.099742e+10</td>\n",
              "      <td>-1.203784e+10</td>\n",
              "    </tr>\n",
              "    <tr>\n",
              "      <th>459998</th>\n",
              "      <td>1.552340e+12</td>\n",
              "      <td>1.100746e+10</td>\n",
              "      <td>-1.699023e+10</td>\n",
              "      <td>6.099742e+10</td>\n",
              "      <td>-1.080786e+10</td>\n",
              "    </tr>\n",
              "    <tr>\n",
              "      <th>459999</th>\n",
              "      <td>1.552340e+12</td>\n",
              "      <td>1.100746e+10</td>\n",
              "      <td>-1.699023e+10</td>\n",
              "      <td>6.099742e+10</td>\n",
              "      <td>-9.577881e+09</td>\n",
              "    </tr>\n",
              "  </tbody>\n",
              "</table>\n",
              "<p>460000 rows × 5 columns</p>\n",
              "</div>\n",
              "      <button class=\"colab-df-convert\" onclick=\"convertToInteractive('df-b79b3de1-0039-47f9-a21a-58e95424d4b4')\"\n",
              "              title=\"Convert this dataframe to an interactive table.\"\n",
              "              style=\"display:none;\">\n",
              "        \n",
              "  <svg xmlns=\"http://www.w3.org/2000/svg\" height=\"24px\"viewBox=\"0 0 24 24\"\n",
              "       width=\"24px\">\n",
              "    <path d=\"M0 0h24v24H0V0z\" fill=\"none\"/>\n",
              "    <path d=\"M18.56 5.44l.94 2.06.94-2.06 2.06-.94-2.06-.94-.94-2.06-.94 2.06-2.06.94zm-11 1L8.5 8.5l.94-2.06 2.06-.94-2.06-.94L8.5 2.5l-.94 2.06-2.06.94zm10 10l.94 2.06.94-2.06 2.06-.94-2.06-.94-.94-2.06-.94 2.06-2.06.94z\"/><path d=\"M17.41 7.96l-1.37-1.37c-.4-.4-.92-.59-1.43-.59-.52 0-1.04.2-1.43.59L10.3 9.45l-7.72 7.72c-.78.78-.78 2.05 0 2.83L4 21.41c.39.39.9.59 1.41.59.51 0 1.02-.2 1.41-.59l7.78-7.78 2.81-2.81c.8-.78.8-2.07 0-2.86zM5.41 20L4 18.59l7.72-7.72 1.47 1.35L5.41 20z\"/>\n",
              "  </svg>\n",
              "      </button>\n",
              "      \n",
              "  <style>\n",
              "    .colab-df-container {\n",
              "      display:flex;\n",
              "      flex-wrap:wrap;\n",
              "      gap: 12px;\n",
              "    }\n",
              "\n",
              "    .colab-df-convert {\n",
              "      background-color: #E8F0FE;\n",
              "      border: none;\n",
              "      border-radius: 50%;\n",
              "      cursor: pointer;\n",
              "      display: none;\n",
              "      fill: #1967D2;\n",
              "      height: 32px;\n",
              "      padding: 0 0 0 0;\n",
              "      width: 32px;\n",
              "    }\n",
              "\n",
              "    .colab-df-convert:hover {\n",
              "      background-color: #E2EBFA;\n",
              "      box-shadow: 0px 1px 2px rgba(60, 64, 67, 0.3), 0px 1px 3px 1px rgba(60, 64, 67, 0.15);\n",
              "      fill: #174EA6;\n",
              "    }\n",
              "\n",
              "    [theme=dark] .colab-df-convert {\n",
              "      background-color: #3B4455;\n",
              "      fill: #D2E3FC;\n",
              "    }\n",
              "\n",
              "    [theme=dark] .colab-df-convert:hover {\n",
              "      background-color: #434B5C;\n",
              "      box-shadow: 0px 1px 3px 1px rgba(0, 0, 0, 0.15);\n",
              "      filter: drop-shadow(0px 1px 2px rgba(0, 0, 0, 0.3));\n",
              "      fill: #FFFFFF;\n",
              "    }\n",
              "  </style>\n",
              "\n",
              "      <script>\n",
              "        const buttonEl =\n",
              "          document.querySelector('#df-b79b3de1-0039-47f9-a21a-58e95424d4b4 button.colab-df-convert');\n",
              "        buttonEl.style.display =\n",
              "          google.colab.kernel.accessAllowed ? 'block' : 'none';\n",
              "\n",
              "        async function convertToInteractive(key) {\n",
              "          const element = document.querySelector('#df-b79b3de1-0039-47f9-a21a-58e95424d4b4');\n",
              "          const dataTable =\n",
              "            await google.colab.kernel.invokeFunction('convertToInteractive',\n",
              "                                                     [key], {});\n",
              "          if (!dataTable) return;\n",
              "\n",
              "          const docLinkHtml = 'Like what you see? Visit the ' +\n",
              "            '<a target=\"_blank\" href=https://colab.research.google.com/notebooks/data_table.ipynb>data table notebook</a>'\n",
              "            + ' to learn more about interactive tables.';\n",
              "          element.innerHTML = '';\n",
              "          dataTable['output_type'] = 'display_data';\n",
              "          await google.colab.output.renderOutput(dataTable, element);\n",
              "          const docLink = document.createElement('div');\n",
              "          docLink.innerHTML = docLinkHtml;\n",
              "          element.appendChild(docLink);\n",
              "        }\n",
              "      </script>\n",
              "    </div>\n",
              "  </div>\n",
              "  "
            ]
          },
          "metadata": {},
          "execution_count": 107
        }
      ]
    },
    {
      "cell_type": "code",
      "source": [
        "x['time'].equals(BVP['time'])"
      ],
      "metadata": {
        "colab": {
          "base_uri": "https://localhost:8080/"
        },
        "id": "3zJBm94ZWUFd",
        "outputId": "e5f8c6a8-b55a-40ab-b8d1-389a3bfcd15c"
      },
      "execution_count": null,
      "outputs": [
        {
          "output_type": "execute_result",
          "data": {
            "text/plain": [
              "True"
            ]
          },
          "metadata": {},
          "execution_count": 89
        }
      ]
    },
    {
      "cell_type": "code",
      "source": [
        "bob = '/content/data/MSEL_01097/MSEL_01097_labels.csv'\n",
        "bob = pd.read_csv(bob)\n"
      ],
      "metadata": {
        "id": "oKsxkh8AWoRh"
      },
      "execution_count": null,
      "outputs": []
    },
    {
      "cell_type": "code",
      "source": [
        "bob"
      ],
      "metadata": {
        "colab": {
          "base_uri": "https://localhost:8080/",
          "height": 269
        },
        "id": "omFQvlgScBYD",
        "outputId": "4a71e2a0-0825-4969-ff22-66edac7a8a76"
      },
      "execution_count": null,
      "outputs": [
        {
          "output_type": "execute_result",
          "data": {
            "text/plain": [
              "   Unnamed: 0      duration                                    id  \\\n",
              "0           0  4.215114e+08  fff9aaa9-b104-46e8-9227-b1b76d6f333e   \n",
              "1           1  4.215114e+08  fff9aaa9-b104-46e8-9227-b1b76d6f333e   \n",
              "2           2  4.215114e+08  fff9aaa9-b104-46e8-9227-b1b76d6f333e   \n",
              "3           3  4.215114e+08  fff9aaa9-b104-46e8-9227-b1b76d6f333e   \n",
              "4           4  4.215114e+08  fff9aaa9-b104-46e8-9227-b1b76d6f333e   \n",
              "5           5  4.215114e+08  fff9aaa9-b104-46e8-9227-b1b76d6f333e   \n",
              "6           6  4.215114e+08  fff9aaa9-b104-46e8-9227-b1b76d6f333e   \n",
              "\n",
              "                          labelGroup.id        name      startTime  \\\n",
              "0  85d331ff-4f46-425b-a4f0-a0ec5157d8ec  MSEL_01097  1552336411000   \n",
              "1  85d331ff-4f46-425b-a4f0-a0ec5157d8ec  MSEL_01097  1552336411000   \n",
              "2  85d331ff-4f46-425b-a4f0-a0ec5157d8ec  MSEL_01097  1552336411000   \n",
              "3  85d331ff-4f46-425b-a4f0-a0ec5157d8ec  MSEL_01097  1552336411000   \n",
              "4  85d331ff-4f46-425b-a4f0-a0ec5157d8ec  MSEL_01097  1552336411000   \n",
              "5  85d331ff-4f46-425b-a4f0-a0ec5157d8ec  MSEL_01097  1552336411000   \n",
              "6  85d331ff-4f46-425b-a4f0-a0ec5157d8ec  MSEL_01097  1552336411000   \n",
              "\n",
              "   labels.duration                             labels.id  \\\n",
              "0           148000  256c6e2b-2170-4513-bdb1-31c8be73a5b3   \n",
              "1            46000  d6a04055-edab-4eae-8dd3-da3829257852   \n",
              "2            50000  8c72e05f-8cb7-4eb1-bcc6-d727ee4fb7e5   \n",
              "3            66000  b88a6cc7-ea62-4fc7-a6c5-48f4665b4081   \n",
              "4           103000  a01b8b7d-6500-4b01-947e-970640b53a91   \n",
              "5            73000  ef90a955-5251-4a7a-a7da-8a33f259b678   \n",
              "6            73000  90ba9902-6dee-41e1-b6dd-8e33e1659bf6   \n",
              "\n",
              "                                 labels.note  labels.startTime  \n",
              "0  subclinical - left middle temporal gyrus      1552438175000  \n",
              "1  subclinical - left middle temporal gyrus      1552438442000  \n",
              "2  subclinical - left middle temporal gyrus      1552438578000  \n",
              "3  subclinical - left middle temporal gyrus      1552439596000  \n",
              "4  subclinical - left middle temporal gyrus      1552440643000  \n",
              "5           \"GTC - left middle frontal gyrus     1552476638000  \n",
              "6           \"GTC - left middle frontal gyrus     1552503792000  "
            ],
            "text/html": [
              "\n",
              "  <div id=\"df-6cc28ca0-f92b-457f-aff9-f687796bf96c\">\n",
              "    <div class=\"colab-df-container\">\n",
              "      <div>\n",
              "<style scoped>\n",
              "    .dataframe tbody tr th:only-of-type {\n",
              "        vertical-align: middle;\n",
              "    }\n",
              "\n",
              "    .dataframe tbody tr th {\n",
              "        vertical-align: top;\n",
              "    }\n",
              "\n",
              "    .dataframe thead th {\n",
              "        text-align: right;\n",
              "    }\n",
              "</style>\n",
              "<table border=\"1\" class=\"dataframe\">\n",
              "  <thead>\n",
              "    <tr style=\"text-align: right;\">\n",
              "      <th></th>\n",
              "      <th>Unnamed: 0</th>\n",
              "      <th>duration</th>\n",
              "      <th>id</th>\n",
              "      <th>labelGroup.id</th>\n",
              "      <th>name</th>\n",
              "      <th>startTime</th>\n",
              "      <th>labels.duration</th>\n",
              "      <th>labels.id</th>\n",
              "      <th>labels.note</th>\n",
              "      <th>labels.startTime</th>\n",
              "    </tr>\n",
              "  </thead>\n",
              "  <tbody>\n",
              "    <tr>\n",
              "      <th>0</th>\n",
              "      <td>0</td>\n",
              "      <td>4.215114e+08</td>\n",
              "      <td>fff9aaa9-b104-46e8-9227-b1b76d6f333e</td>\n",
              "      <td>85d331ff-4f46-425b-a4f0-a0ec5157d8ec</td>\n",
              "      <td>MSEL_01097</td>\n",
              "      <td>1552336411000</td>\n",
              "      <td>148000</td>\n",
              "      <td>256c6e2b-2170-4513-bdb1-31c8be73a5b3</td>\n",
              "      <td>subclinical - left middle temporal gyrus</td>\n",
              "      <td>1552438175000</td>\n",
              "    </tr>\n",
              "    <tr>\n",
              "      <th>1</th>\n",
              "      <td>1</td>\n",
              "      <td>4.215114e+08</td>\n",
              "      <td>fff9aaa9-b104-46e8-9227-b1b76d6f333e</td>\n",
              "      <td>85d331ff-4f46-425b-a4f0-a0ec5157d8ec</td>\n",
              "      <td>MSEL_01097</td>\n",
              "      <td>1552336411000</td>\n",
              "      <td>46000</td>\n",
              "      <td>d6a04055-edab-4eae-8dd3-da3829257852</td>\n",
              "      <td>subclinical - left middle temporal gyrus</td>\n",
              "      <td>1552438442000</td>\n",
              "    </tr>\n",
              "    <tr>\n",
              "      <th>2</th>\n",
              "      <td>2</td>\n",
              "      <td>4.215114e+08</td>\n",
              "      <td>fff9aaa9-b104-46e8-9227-b1b76d6f333e</td>\n",
              "      <td>85d331ff-4f46-425b-a4f0-a0ec5157d8ec</td>\n",
              "      <td>MSEL_01097</td>\n",
              "      <td>1552336411000</td>\n",
              "      <td>50000</td>\n",
              "      <td>8c72e05f-8cb7-4eb1-bcc6-d727ee4fb7e5</td>\n",
              "      <td>subclinical - left middle temporal gyrus</td>\n",
              "      <td>1552438578000</td>\n",
              "    </tr>\n",
              "    <tr>\n",
              "      <th>3</th>\n",
              "      <td>3</td>\n",
              "      <td>4.215114e+08</td>\n",
              "      <td>fff9aaa9-b104-46e8-9227-b1b76d6f333e</td>\n",
              "      <td>85d331ff-4f46-425b-a4f0-a0ec5157d8ec</td>\n",
              "      <td>MSEL_01097</td>\n",
              "      <td>1552336411000</td>\n",
              "      <td>66000</td>\n",
              "      <td>b88a6cc7-ea62-4fc7-a6c5-48f4665b4081</td>\n",
              "      <td>subclinical - left middle temporal gyrus</td>\n",
              "      <td>1552439596000</td>\n",
              "    </tr>\n",
              "    <tr>\n",
              "      <th>4</th>\n",
              "      <td>4</td>\n",
              "      <td>4.215114e+08</td>\n",
              "      <td>fff9aaa9-b104-46e8-9227-b1b76d6f333e</td>\n",
              "      <td>85d331ff-4f46-425b-a4f0-a0ec5157d8ec</td>\n",
              "      <td>MSEL_01097</td>\n",
              "      <td>1552336411000</td>\n",
              "      <td>103000</td>\n",
              "      <td>a01b8b7d-6500-4b01-947e-970640b53a91</td>\n",
              "      <td>subclinical - left middle temporal gyrus</td>\n",
              "      <td>1552440643000</td>\n",
              "    </tr>\n",
              "    <tr>\n",
              "      <th>5</th>\n",
              "      <td>5</td>\n",
              "      <td>4.215114e+08</td>\n",
              "      <td>fff9aaa9-b104-46e8-9227-b1b76d6f333e</td>\n",
              "      <td>85d331ff-4f46-425b-a4f0-a0ec5157d8ec</td>\n",
              "      <td>MSEL_01097</td>\n",
              "      <td>1552336411000</td>\n",
              "      <td>73000</td>\n",
              "      <td>ef90a955-5251-4a7a-a7da-8a33f259b678</td>\n",
              "      <td>\"GTC - left middle frontal gyrus</td>\n",
              "      <td>1552476638000</td>\n",
              "    </tr>\n",
              "    <tr>\n",
              "      <th>6</th>\n",
              "      <td>6</td>\n",
              "      <td>4.215114e+08</td>\n",
              "      <td>fff9aaa9-b104-46e8-9227-b1b76d6f333e</td>\n",
              "      <td>85d331ff-4f46-425b-a4f0-a0ec5157d8ec</td>\n",
              "      <td>MSEL_01097</td>\n",
              "      <td>1552336411000</td>\n",
              "      <td>73000</td>\n",
              "      <td>90ba9902-6dee-41e1-b6dd-8e33e1659bf6</td>\n",
              "      <td>\"GTC - left middle frontal gyrus</td>\n",
              "      <td>1552503792000</td>\n",
              "    </tr>\n",
              "  </tbody>\n",
              "</table>\n",
              "</div>\n",
              "      <button class=\"colab-df-convert\" onclick=\"convertToInteractive('df-6cc28ca0-f92b-457f-aff9-f687796bf96c')\"\n",
              "              title=\"Convert this dataframe to an interactive table.\"\n",
              "              style=\"display:none;\">\n",
              "        \n",
              "  <svg xmlns=\"http://www.w3.org/2000/svg\" height=\"24px\"viewBox=\"0 0 24 24\"\n",
              "       width=\"24px\">\n",
              "    <path d=\"M0 0h24v24H0V0z\" fill=\"none\"/>\n",
              "    <path d=\"M18.56 5.44l.94 2.06.94-2.06 2.06-.94-2.06-.94-.94-2.06-.94 2.06-2.06.94zm-11 1L8.5 8.5l.94-2.06 2.06-.94-2.06-.94L8.5 2.5l-.94 2.06-2.06.94zm10 10l.94 2.06.94-2.06 2.06-.94-2.06-.94-.94-2.06-.94 2.06-2.06.94z\"/><path d=\"M17.41 7.96l-1.37-1.37c-.4-.4-.92-.59-1.43-.59-.52 0-1.04.2-1.43.59L10.3 9.45l-7.72 7.72c-.78.78-.78 2.05 0 2.83L4 21.41c.39.39.9.59 1.41.59.51 0 1.02-.2 1.41-.59l7.78-7.78 2.81-2.81c.8-.78.8-2.07 0-2.86zM5.41 20L4 18.59l7.72-7.72 1.47 1.35L5.41 20z\"/>\n",
              "  </svg>\n",
              "      </button>\n",
              "      \n",
              "  <style>\n",
              "    .colab-df-container {\n",
              "      display:flex;\n",
              "      flex-wrap:wrap;\n",
              "      gap: 12px;\n",
              "    }\n",
              "\n",
              "    .colab-df-convert {\n",
              "      background-color: #E8F0FE;\n",
              "      border: none;\n",
              "      border-radius: 50%;\n",
              "      cursor: pointer;\n",
              "      display: none;\n",
              "      fill: #1967D2;\n",
              "      height: 32px;\n",
              "      padding: 0 0 0 0;\n",
              "      width: 32px;\n",
              "    }\n",
              "\n",
              "    .colab-df-convert:hover {\n",
              "      background-color: #E2EBFA;\n",
              "      box-shadow: 0px 1px 2px rgba(60, 64, 67, 0.3), 0px 1px 3px 1px rgba(60, 64, 67, 0.15);\n",
              "      fill: #174EA6;\n",
              "    }\n",
              "\n",
              "    [theme=dark] .colab-df-convert {\n",
              "      background-color: #3B4455;\n",
              "      fill: #D2E3FC;\n",
              "    }\n",
              "\n",
              "    [theme=dark] .colab-df-convert:hover {\n",
              "      background-color: #434B5C;\n",
              "      box-shadow: 0px 1px 3px 1px rgba(0, 0, 0, 0.15);\n",
              "      filter: drop-shadow(0px 1px 2px rgba(0, 0, 0, 0.3));\n",
              "      fill: #FFFFFF;\n",
              "    }\n",
              "  </style>\n",
              "\n",
              "      <script>\n",
              "        const buttonEl =\n",
              "          document.querySelector('#df-6cc28ca0-f92b-457f-aff9-f687796bf96c button.colab-df-convert');\n",
              "        buttonEl.style.display =\n",
              "          google.colab.kernel.accessAllowed ? 'block' : 'none';\n",
              "\n",
              "        async function convertToInteractive(key) {\n",
              "          const element = document.querySelector('#df-6cc28ca0-f92b-457f-aff9-f687796bf96c');\n",
              "          const dataTable =\n",
              "            await google.colab.kernel.invokeFunction('convertToInteractive',\n",
              "                                                     [key], {});\n",
              "          if (!dataTable) return;\n",
              "\n",
              "          const docLinkHtml = 'Like what you see? Visit the ' +\n",
              "            '<a target=\"_blank\" href=https://colab.research.google.com/notebooks/data_table.ipynb>data table notebook</a>'\n",
              "            + ' to learn more about interactive tables.';\n",
              "          element.innerHTML = '';\n",
              "          dataTable['output_type'] = 'display_data';\n",
              "          await google.colab.output.renderOutput(dataTable, element);\n",
              "          const docLink = document.createElement('div');\n",
              "          docLink.innerHTML = docLinkHtml;\n",
              "          element.appendChild(docLink);\n",
              "        }\n",
              "      </script>\n",
              "    </div>\n",
              "  </div>\n",
              "  "
            ]
          },
          "metadata": {},
          "execution_count": 20
        }
      ]
    },
    {
      "cell_type": "code",
      "source": [
        ""
      ],
      "metadata": {
        "id": "9PngWvhKcD3i"
      },
      "execution_count": null,
      "outputs": []
    },
    {
      "cell_type": "code",
      "source": [
        ""
      ],
      "metadata": {
        "id": "mPXGNbY4tojk"
      },
      "execution_count": null,
      "outputs": []
    }
  ]
}