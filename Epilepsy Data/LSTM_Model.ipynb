{
  "cells": [
    {
      "cell_type": "code",
      "execution_count": null,
      "metadata": {
        "id": "rqxzPfAiRgDV"
      },
      "outputs": [],
      "source": [
        "import numpy as np\n",
        "import matplotlib.pyplot as plt\n",
        "import pandas as pd\n",
        "import torch\n",
        "import torch.nn as nn\n",
        "from torch.autograd import Variable\n",
        "from sklearn.preprocessing import MinMaxScaler\n",
        "import os, os.path"
      ]
    },
    {
      "cell_type": "code",
      "execution_count": null,
      "metadata": {
        "colab": {
          "base_uri": "https://localhost:8080/",
          "height": 35
        },
        "id": "QgpvdHMaH6QS",
        "outputId": "d3398069-0a60-4fd6-93de-7e00227a41d5"
      },
      "outputs": [
        {
          "data": {
            "application/vnd.google.colaboratory.intrinsic+json": {
              "type": "string"
            },
            "text/plain": [
              "'\\nif torch.cuda.is_available():\\n  device = torch.device(\"cuda\")\\nelse:\\n  device = torch.device(\"cpu\")\\n'"
            ]
          },
          "execution_count": 2,
          "metadata": {},
          "output_type": "execute_result"
        }
      ],
      "source": [
        "\"\"\"\n",
        "if torch.cuda.is_available():\n",
        "  device = torch.device(\"cuda\")\n",
        "else:\n",
        "  device = torch.device(\"cpu\")\n",
        "\"\"\""
      ]
    },
    {
      "cell_type": "code",
      "execution_count": null,
      "metadata": {
        "id": "7YGdvq11gY3L"
      },
      "outputs": [],
      "source": [
        "device = torch.device(\"cpu\")"
      ]
    },
    {
      "cell_type": "markdown",
      "metadata": {
        "id": "ZNdG4ZT3EGR0"
      },
      "source": [
        ""
      ]
    },
    {
      "cell_type": "code",
      "execution_count": null,
      "metadata": {
        "colab": {
          "base_uri": "https://localhost:8080/"
        },
        "id": "dlHS0ILqe3ah",
        "outputId": "d5f156d3-ae34-4aab-c91f-2fe87815f604"
      },
      "outputs": [
        {
          "output_type": "stream",
          "name": "stdout",
          "text": [
            "Drive already mounted at /content/drive; to attempt to forcibly remount, call drive.mount(\"/content/drive\", force_remount=True).\n"
          ]
        }
      ],
      "source": [
        "from google.colab import drive\n",
        "drive.mount('/content/drive')"
      ]
    },
    {
      "cell_type": "code",
      "execution_count": null,
      "metadata": {
        "id": "wiYmNvY8pnCn"
      },
      "outputs": [],
      "source": [
        "patients = ['01575', '01828', '01709', '01870', '01842', '01844', '01097', '00182', '01676', '01849', '01808', '00501', '00172', '01763', '00502']"
      ]
    },
    {
      "cell_type": "code",
      "execution_count": null,
      "metadata": {
        "id": "okgIrbuMjPdT"
      },
      "outputs": [],
      "source": [
        "class Patient():\n",
        "  def __init__(self, id, mode= \"Train\", max_segments = -1):\n",
        "    self.fields = [\"BVP\", \"EDA\", \"HR\", \"TEMP\",\"Mag\", \"x\", \"y\", \"z\"]\n",
        "    self.id = id\n",
        "    self.targets = self.getPatientTarget()\n",
        "\n",
        "    #if max segments is set to -1 load all segments\n",
        "    self.max_segments = max_segments\n",
        "    self.length = self.getNumberOfSegments(id)\n",
        "    if self.max_segments != -1:\n",
        "      self.length = min(self.max_segments, self.length)\n",
        "\n",
        "    self.segments = np.zeros((self.length, 8, 7679))\n",
        "\n",
        "    if mode == \"Train\":\n",
        "      self.loadSegments()\n",
        "\n",
        "  def __len__(self):\n",
        "    return self.length\n",
        "\n",
        "  def getNumberOfSegments(self, patient_id):\n",
        "    #get number of segments for a given patient\n",
        "    path = '/content/drive/My Drive/epi_data_folders/MSEL_{}/segments/x/'.format(patient_id)\n",
        "    length = 0\n",
        "    try:\n",
        "      length = len([name for name in os.listdir(path)])\n",
        "    except:\n",
        "      print(\"missing data for patient: {}\".format(patient_id))\n",
        "    return length\n",
        "\n",
        "  def getPatientData(self, field, number):\n",
        "    path = '/content/drive/My Drive/epi_data_folders/MSEL_{}/segments/{}/segment{}.parquet'.format(self.id, field, number)\n",
        "\n",
        "    return pd.read_parquet(path, engine=\"auto\")[field].to_numpy()\n",
        "\n",
        "  def getPatientTarget(self):\n",
        "    path = '/content/drive/My Drive/epi_data_folders/MSEL_{}/MSEL_{}_labels_split.csv'.format(self.id, self.id)\n",
        "\n",
        "    df = pd.read_csv(path)\n",
        "    df = df.drop(columns=[\"name\", \"study_start_time\", \"study_duration\", \"label_start_time\", \"label_duration\", \"label_note\"])\n",
        "\n",
        "    return df[\"label\"].to_numpy()\n",
        "\n",
        "  def loadSegments(self):\n",
        "    print(\"loading data for patient: {}\".format(self.id))\n",
        "    for i in range(self.length):\n",
        "      for j in range(len(self.fields)):\n",
        "        try:\n",
        "          self.segments[i, j, :] = self.getPatientData(self.fields[j], i)[:7679]\n",
        "        except:\n",
        "          print(\"whoops! Patient data for field {} and segment {} is too small.\".format(self.fields[j], i))\n",
        "\n",
        "  def getTarget(self, number):\n",
        "    return self.targets[number]\n",
        "\n",
        "  def getTargetRange(self, i, j):\n",
        "    return self.targets[i:j]"
      ]
    },
    {
      "cell_type": "code",
      "execution_count": null,
      "metadata": {
        "id": "llj8enMUFppO"
      },
      "outputs": [],
      "source": [
        "class Patients():\n",
        "  def __init__(self, patient_ids, seq_len=10, seq_step=10, mode=\"Train\", max_segments=-1):\n",
        "    self.patients = {}\n",
        "    self.seq_len = seq_len\n",
        "    self.seq_step = seq_step\n",
        "    \n",
        "    # patient_ids: list of patients by ids\n",
        "    print(\"List of patients received: {}\".format(patient_ids))\n",
        "    self.patient_ids = self.filterPatients(patient_ids)\n",
        "    self.patient_ids.sort()\n",
        "    print(\"List of patients filtered: {}\".format(self.patient_ids))\n",
        "\n",
        "    for patient_id in self.patient_ids:\n",
        "      self.patients[patient_id] = Patient(patient_id, mode=mode, max_segments=max_segments)\n",
        "\n",
        "    self.length = self.getNumberOfSegmentsForAllPatients(self.patients)\n",
        "\n",
        "\n",
        "    self.patient_lengths = [self.patients[patient_id].length - (self.seq_len-1) for patient_id in self.patient_ids]\n",
        "\n",
        "    self.patient_accumulated_lengths = [0]\n",
        "    for patient_length in self.patient_lengths:\n",
        "      self.patient_accumulated_lengths.append(patient_length + self.patient_accumulated_lengths[-1])\n",
        "\n",
        "    print(self.patient_accumulated_lengths)\n",
        "\n",
        "  \n",
        "\n",
        "  def __len__(self):\n",
        "    return self.length\n",
        "\n",
        "  def getNumberOfSegmentsForAllPatients(self, patients):\n",
        "    length = 0\n",
        "\n",
        "    for id in patients:\n",
        "      length += self.getPatient(id).length\n",
        "\n",
        "    return length\n",
        "\n",
        "  def getPatient(self, id):\n",
        "    return self.patients[id]\n",
        "\n",
        "  def getNumberOfPatients(self):\n",
        "    return len(self.patients)\n",
        "\n",
        "  def filterPatients(self, patients):\n",
        "    filtered_list = []\n",
        "\n",
        "    for patient_id in patients:\n",
        "      path = '/content/drive/My Drive/epi_data_folders/MSEL_{}/segments/x/segment59.parquet'.format(patient_id)\n",
        "      if os.path.isfile(path):\n",
        "        filtered_list.append(patient_id)\n",
        "\n",
        "    return filtered_list\n",
        "\n",
        "  def getPatientIndex(self, value):\n",
        "    #returns the patient index\n",
        "\n",
        "    value = value * self.seq_step\n",
        "\n",
        "    for i in range(1, len(self.patient_accumulated_lengths)):\n",
        "      if value < self.patient_accumulated_lengths[i]:\n",
        "        return i - 1\n",
        "\n",
        "    print(\"Something weird might be happening. Value: {}\".format(value))\n",
        "    return -1\n",
        "\n"
      ]
    },
    {
      "cell_type": "code",
      "execution_count": null,
      "metadata": {
        "id": "4mYBaUWIRvFR"
      },
      "outputs": [],
      "source": [
        "class TimeseriesDataset(torch.utils.data.Dataset):   \n",
        "  def __init__(self, patients, seq_len=10, seq_step=10, mode=\"Train\", max_segments_per_patient=-1):\n",
        "    self.patients = Patients(patients, seq_len, seq_step, mode, max_segments_per_patient)\n",
        "    self.seq_len = seq_len\n",
        "    self.seq_step = seq_step\n",
        "    self.fields = [\"BVP\", \"EDA\", \"HR\", \"TEMP\",\"Mag\", \"x\", \"y\", \"z\"]\n",
        "\n",
        "  def __len__(self):\n",
        "    return (self.patients.length - (self.seq_len-1) * self.patients.getNumberOfPatients()) // self.seq_step\n",
        "\n",
        "  def __getitem__(self, relative_index):\n",
        "    patient_index = self.patients.getPatientIndex(relative_index)\n",
        "    patient_accumulated = self.patients.patient_accumulated_lengths[patient_index]\n",
        "\n",
        "    start = relative_index * self.seq_step - patient_accumulated\n",
        "    end = start + self.seq_len\n",
        "\n",
        "    patient_id = self.patients.patient_ids[patient_index]\n",
        "    patient = self.patients.getPatient(patient_id)\n",
        "    \n",
        "    sequence = patient.segments[start:end, :, :]\n",
        "\n",
        "    return (sequence, patient.getTargetRange(start, end))"
      ]
    },
    {
      "cell_type": "code",
      "execution_count": null,
      "metadata": {
        "colab": {
          "base_uri": "https://localhost:8080/"
        },
        "id": "TJwrrR4Twybs",
        "outputId": "49f750b0-ad49-48d9-ba07-845d04dbc74e"
      },
      "outputs": [
        {
          "metadata": {
            "tags": null
          },
          "name": "stdout",
          "output_type": "stream",
          "text": [
            "List of patients received: ['01575', '01828', '01709', '01870', '01842', '01844', '01097', '00182', '01676', '01849', '01808', '00501', '00172', '01763', '00502']\n",
            "List of patients filtered: ['00172', '00182', '01097', '01575', '01709', '01808', '01842', '01844', '01870']\n",
            "loading data for patient: 00172\n",
            "loading data for patient: 00182\n",
            "loading data for patient: 01097\n",
            "loading data for patient: 01575\n",
            "loading data for patient: 01709\n",
            "loading data for patient: 01808\n"
          ]
        }
      ],
      "source": [
        "train_dataset = TimeseriesDataset(patients, seq_len=10, seq_step=5, mode=\"Train\")\n",
        "train_loader = torch.utils.data.DataLoader(train_dataset, batch_size = 64, shuffle = False)"
      ]
    },
    {
      "cell_type": "code",
      "execution_count": null,
      "metadata": {
        "colab": {
          "base_uri": "https://localhost:8080/"
        },
        "id": "e3iZNqpM3ebf",
        "outputId": "35b630ac-8aca-4643-882e-4c69fa85f7bc"
      },
      "outputs": [
        {
          "output_type": "stream",
          "name": "stdout",
          "text": [
            "Interictal count: 629\n",
            "Preictal count: 11\n",
            "Ictal count: 0\n",
            "Interictal count: 525\n",
            "Preictal count: 2\n",
            "Ictal count: 113\n",
            "Interictal count: 100\n",
            "Preictal count: 0\n",
            "Ictal count: 0\n"
          ]
        }
      ],
      "source": [
        "for i, d in enumerate(train_loader):\n",
        "    #d[0] is x. shape: (64, 60, 8, 7679) = (batch_size, segment_size, fields, # rows in a segment)\n",
        "    #d[1] is y. shape: (64, 60) (batch size, segment size)\n",
        "    sequences, labels = d\n",
        "    print(\"Interictal count: {}\".format(np.count_nonzero(labels == 2)))\n",
        "    print(\"Preictal count: {}\".format(np.count_nonzero(labels == 1)))\n",
        "    print(\"Ictal count: {}\".format(np.count_nonzero(labels == 0)))"
      ]
    },
    {
      "cell_type": "code",
      "execution_count": null,
      "metadata": {
        "id": "zVoc3mO-FnIT"
      },
      "outputs": [],
      "source": [
        "class RNN(nn.Module):\n",
        "    def __init__(self, input_size, hidden_size, num_layers, num_classes):\n",
        "        super(RNN, self).__init__()\n",
        "        self.hidden_size = hidden_size\n",
        "        self.num_layers = num_layers\n",
        "        self.lstm = nn.LSTM(input_size, hidden_size, num_layers, batch_first=True)\n",
        "        self.fc = nn.Linear(hidden_size, num_classes)\n",
        "    \n",
        "    def forward(self, x):\n",
        "        # Set initial hidden and cell states \n",
        "        h0 = torch.zeros(self.num_layers, x.size(0), self.hidden_size).to(device) \n",
        "        c0 = torch.zeros(self.num_layers, x.size(0), self.hidden_size).to(device)\n",
        "        #print(h0.shape)\n",
        "        #print(c0.shape)\n",
        "\n",
        "        # Forward propagate LSTM\n",
        "        out, _ = self.lstm(x, (h0, c0))  # out: tensor of shape (batch_size, seq_length, hidden_size)\n",
        "        #print('out shape: {}'.format(out.shape))\n",
        "        #print('out shape transformed: {}'.format(out[:, -1, :].shape))\n",
        "        # Decode the hidden state of the last time step\n",
        "        out = self.fc(out)\n",
        "        return out\n",
        "\n",
        "model = RNN(input_size=61432, hidden_size=128, num_layers=4, num_classes=1).to(device)"
      ]
    },
    {
      "cell_type": "code",
      "execution_count": null,
      "metadata": {
        "colab": {
          "base_uri": "https://localhost:8080/"
        },
        "id": "GAsIfRqiGxe0",
        "outputId": "f3788b5d-ba7c-4e19-dbd0-65c6291e37bd"
      },
      "outputs": [
        {
          "output_type": "stream",
          "name": "stdout",
          "text": [
            "Epoch [1/20], Step [3/3], Loss: 2.2643\n",
            "Epoch [2/20], Step [3/3], Loss: 2.1364\n",
            "Epoch [3/20], Step [3/3], Loss: 1.8506\n",
            "Epoch [4/20], Step [3/3], Loss: 1.8269\n",
            "Epoch [5/20], Step [3/3], Loss: 1.8384\n",
            "Epoch [6/20], Step [3/3], Loss: 1.6226\n",
            "Epoch [7/20], Step [3/3], Loss: 1.5162\n",
            "Epoch [8/20], Step [3/3], Loss: 1.4920\n",
            "Epoch [9/20], Step [3/3], Loss: 1.4110\n",
            "Epoch [10/20], Step [3/3], Loss: 1.3723\n",
            "Epoch [11/20], Step [3/3], Loss: 1.2744\n",
            "Epoch [12/20], Step [3/3], Loss: 1.1487\n",
            "Epoch [13/20], Step [3/3], Loss: 0.9377\n",
            "Epoch [14/20], Step [3/3], Loss: 0.7127\n",
            "Epoch [15/20], Step [3/3], Loss: 0.5365\n",
            "Epoch [16/20], Step [3/3], Loss: 0.4190\n",
            "Epoch [17/20], Step [3/3], Loss: 0.3417\n",
            "Epoch [18/20], Step [3/3], Loss: 0.2456\n",
            "Epoch [19/20], Step [3/3], Loss: 0.1937\n",
            "Epoch [20/20], Step [3/3], Loss: 0.1271\n"
          ]
        }
      ],
      "source": [
        "learning_rate = 0.001\n",
        "num_epochs = 20\n",
        "sequence_length = 60\n",
        "input_size = 8\n",
        "\n",
        "# Loss and optimizer\n",
        "criterion = nn.CrossEntropyLoss()\n",
        "optimizer = torch.optim.Adam(model.parameters(), lr=learning_rate)\n",
        "\n",
        "# Train the model\n",
        "total_step = len(train_loader)\n",
        "for epoch in range(num_epochs):\n",
        "    for i, (sequence, labels) in enumerate(train_loader):\n",
        "        labels = labels[:, -1]\n",
        "        labels = labels.long().to(device)\n",
        "        labels = labels[:, None]\n",
        "        #labels = torch.nn.functional.one_hot(labels, num_classes = 3)\n",
        "        #print(labels)\n",
        "\n",
        "        sequence = torch.nan_to_num(sequence, nan=-1.0)\n",
        "        sequence = torch.flatten(sequence, start_dim=2).float().to(device)\n",
        "        # Forward pass\n",
        "        outputs = model(sequence)\n",
        "        loss = criterion(outputs, labels)\n",
        "        \n",
        "        # Backward and optimize\n",
        "        optimizer.zero_grad()\n",
        "        loss.backward()\n",
        "        optimizer.step()\n",
        "        \n",
        "        \n",
        "    print('Epoch [{}/{}], Step [{}/{}], Loss: {:.4f}' \n",
        "            .format(epoch+1, num_epochs, i+1, total_step, loss.item()))\n"
      ]
    },
    {
      "cell_type": "code",
      "execution_count": null,
      "metadata": {
        "id": "jJy2aroME9s4",
        "colab": {
          "base_uri": "https://localhost:8080/"
        },
        "outputId": "6eaf9452-4bf0-4fdb-c131-90839c01ce8b"
      },
      "outputs": [
        {
          "output_type": "stream",
          "name": "stdout",
          "text": [
            "List of patients received: ['00182']\n",
            "List of patients filtered: ['00182']\n",
            "loading data for patient: 00182\n",
            "[0, 231]\n"
          ]
        }
      ],
      "source": [
        "test_patients = ['00182']\n",
        "test_dataset = TimeseriesDataset(test_patients, seq_len=10, seq_step=5, mode=\"Train\", max_segments_per_patient = 240)\n",
        "test_loader = torch.utils.data.DataLoader(test_dataset, batch_size = 64, shuffle = False)"
      ]
    },
    {
      "cell_type": "code",
      "execution_count": null,
      "metadata": {
        "id": "g-qojU2hzn56",
        "colab": {
          "base_uri": "https://localhost:8080/"
        },
        "outputId": "15b4ecd3-e018-4cf9-a874-d94bdb962763"
      },
      "outputs": [
        {
          "output_type": "stream",
          "name": "stdout",
          "text": [
            "tensor([[2],\n",
            "        [2],\n",
            "        [2],\n",
            "        [2],\n",
            "        [2],\n",
            "        [2],\n",
            "        [2],\n",
            "        [2],\n",
            "        [2],\n",
            "        [2],\n",
            "        [2],\n",
            "        [2],\n",
            "        [2],\n",
            "        [2],\n",
            "        [2],\n",
            "        [2],\n",
            "        [2],\n",
            "        [2],\n",
            "        [2],\n",
            "        [2],\n",
            "        [2],\n",
            "        [2],\n",
            "        [2],\n",
            "        [2],\n",
            "        [2],\n",
            "        [2],\n",
            "        [2],\n",
            "        [2],\n",
            "        [2],\n",
            "        [2],\n",
            "        [2],\n",
            "        [2],\n",
            "        [2],\n",
            "        [2],\n",
            "        [2],\n",
            "        [2],\n",
            "        [2],\n",
            "        [1],\n",
            "        [2],\n",
            "        [2],\n",
            "        [2],\n",
            "        [1],\n",
            "        [2],\n",
            "        [2],\n",
            "        [2],\n",
            "        [2]])\n",
            "tensor([[2],\n",
            "        [2],\n",
            "        [2],\n",
            "        [2],\n",
            "        [2],\n",
            "        [2],\n",
            "        [2],\n",
            "        [2],\n",
            "        [2],\n",
            "        [2],\n",
            "        [2],\n",
            "        [2],\n",
            "        [2],\n",
            "        [2],\n",
            "        [2],\n",
            "        [2],\n",
            "        [2],\n",
            "        [2],\n",
            "        [2],\n",
            "        [2],\n",
            "        [2],\n",
            "        [2],\n",
            "        [2],\n",
            "        [2],\n",
            "        [2],\n",
            "        [2],\n",
            "        [2],\n",
            "        [2],\n",
            "        [2],\n",
            "        [2],\n",
            "        [2],\n",
            "        [2],\n",
            "        [2],\n",
            "        [2],\n",
            "        [2],\n",
            "        [2],\n",
            "        [2],\n",
            "        [2],\n",
            "        [2],\n",
            "        [2],\n",
            "        [2],\n",
            "        [2],\n",
            "        [2],\n",
            "        [2],\n",
            "        [2],\n",
            "        [2]])\n",
            "Test Accuracy of the model on the 10000 test images: 95.65217391304348 %\n"
          ]
        }
      ],
      "source": [
        "# Test the model\n",
        "model.eval()\n",
        "with torch.no_grad():\n",
        "  correct = 0\n",
        "  total = 0\n",
        "  for sequence, labels in test_loader:\n",
        "    sequence = torch.nan_to_num(sequence, nan=-1.0)\n",
        "    sequence = torch.flatten(sequence, start_dim=2).float().to(device)\n",
        "    \n",
        "    labels = labels[:, -1]\n",
        "    labels = labels.long().to(device)\n",
        "    labels = labels[:, None]\n",
        "\n",
        "    outputs = model(sequence)\n",
        "    _, predicted = torch.max(outputs.data, 1)\n",
        "    print(predicted)\n",
        "    print(labels)\n",
        "    total += labels.size(0)\n",
        "    correct += (predicted == labels).sum().item()\n",
        "    \n",
        "\n",
        "  print('Test Accuracy of the model on the 10000 test images: {} %'.format(100 * correct / total)) \n",
        "\n",
        "# Save the model checkpoint\n",
        "torch.save(model.state_dict(), 'model.ckpt')\n"
      ]
    }
  ],
  "metadata": {
    "colab": {
      "collapsed_sections": [],
      "machine_shape": "hm",
      "name": "LSTM Model.ipynb",
      "provenance": []
    },
    "kernelspec": {
      "display_name": "Python 3",
      "name": "python3"
    },
    "language_info": {
      "name": "python"
    }
  },
  "nbformat": 4,
  "nbformat_minor": 0
}